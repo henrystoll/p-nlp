{
 "cells": [
  {
   "cell_type": "markdown",
   "source": [
    "Testing SVM vs all 4 metrics"
   ],
   "metadata": {
    "collapsed": false,
    "pycharm": {
     "name": "#%% md\n"
    }
   }
  },
  {
   "cell_type": "code",
   "execution_count": 19,
   "metadata": {
    "collapsed": true
   },
   "outputs": [],
   "source": [
    "import numpy as np\n",
    "import pandas as pd\n",
    "import seaborn as sns\n",
    "from comet_ml import Experiment\n",
    "from sklearn.ensemble import RandomForestRegressor\n",
    "from sklearn.linear_model import SGDRegressor, LinearRegression, ElasticNet\n",
    "\n",
    "from sklearn.model_selection import train_test_split, GridSearchCV\n",
    "from sklearn.feature_extraction.text import TfidfVectorizer, CountVectorizer\n",
    "from sklearn.pipeline import Pipeline\n",
    "from sklearn.preprocessing import StandardScaler\n",
    "from sklearn.svm import LinearSVR"
   ]
  },
  {
   "cell_type": "code",
   "execution_count": 8,
   "outputs": [
    {
     "name": "stdout",
     "output_type": "stream",
     "text": [
      "Unnamed: 0                  int64\n",
      "username                   object\n",
      "text                       object\n",
      "Ticker                     object\n",
      "Name                       object\n",
      "Industry                   object\n",
      "Total ESG Risk Score        int64\n",
      "Environment Risk Score    float64\n",
      "Social Risk Score         float64\n",
      "Governance Risk Score     float64\n",
      "user_id                     int64\n",
      "text_tokenized             object\n",
      "dtype: object\n"
     ]
    }
   ],
   "source": [
    "df = pd.read_csv('../50_tweets_companies.zip')\n",
    "print(df.dtypes)"
   ],
   "metadata": {
    "collapsed": false,
    "pycharm": {
     "name": "#%%\n"
    }
   }
  },
  {
   "cell_type": "code",
   "execution_count": 9,
   "outputs": [
    {
     "name": "stdout",
     "output_type": "stream",
     "text": [
      "Fitting 5 folds for each of 3 candidates, totalling 15 fits\n",
      "Total ESG Risk Score\n",
      "|                                              | 0                    | 1                    | 2                       |\n",
      "|:---------------------------------------------|:---------------------|:---------------------|:------------------------|\n",
      "| param_model                                  | LinearSVR()          | LinearRegression()   | ElasticNet()            |\n",
      "| mean_test_explained_variance                 | 0.7512395445435482   | 0.9232680755301697   | -4.4408920985006264e-17 |\n",
      "| mean_test_max_error                          | -26.34464229727024   | -13.396528120978655  | -39.02175759520602      |\n",
      "| mean_test_neg_mean_absolute_error            | -2.1383810928993423  | -1.476952818114634   | -6.025473408101753      |\n",
      "| mean_test_neg_mean_squared_error             | -14.522703329521537  | -4.40387227401729    | -57.46577452613603      |\n",
      "| mean_test_neg_root_mean_squared_error        | -3.8079725308846846  | -2.097962545933362   | -7.578787308191527      |\n",
      "| mean_test_neg_mean_squared_log_error         | -0.01898381375549841 | -0.00852186685556139 | -0.0906338825809017     |\n",
      "| mean_test_neg_median_absolute_error          | -1.0172074335594896  | -1.0631812874606066  | -5.031923231750864      |\n",
      "| mean_test_r2                                 | 0.7474568990832857   | 0.9232262712182123   | -0.0007438103962948528  |\n",
      "| mean_test_neg_mean_absolute_percentage_error | -0.0917192033023878  | -0.06817086305555907 | -0.281651381138203      |\n",
      "Fitting 5 folds for each of 3 candidates, totalling 15 fits\n"
     ]
    },
    {
     "name": "stderr",
     "output_type": "stream",
     "text": [
      "/Users/henrystoll/SDK/anaconda3/envs/p-nlp/lib/python3.9/site-packages/sklearn/model_selection/_search.py:922: UserWarning: One or more of the test scores are non-finite: [nan nan  0.]\n",
      "  warnings.warn(\n",
      "/Users/henrystoll/SDK/anaconda3/envs/p-nlp/lib/python3.9/site-packages/sklearn/model_selection/_search.py:922: UserWarning: One or more of the test scores are non-finite: [         nan          nan -70.37799801]\n",
      "  warnings.warn(\n",
      "/Users/henrystoll/SDK/anaconda3/envs/p-nlp/lib/python3.9/site-packages/sklearn/model_selection/_search.py:922: UserWarning: One or more of the test scores are non-finite: [        nan         nan -5.00991731]\n",
      "  warnings.warn(\n",
      "/Users/henrystoll/SDK/anaconda3/envs/p-nlp/lib/python3.9/site-packages/sklearn/model_selection/_search.py:922: UserWarning: One or more of the test scores are non-finite: [         nan          nan -62.64844521]\n",
      "  warnings.warn(\n",
      "/Users/henrystoll/SDK/anaconda3/envs/p-nlp/lib/python3.9/site-packages/sklearn/model_selection/_search.py:922: UserWarning: One or more of the test scores are non-finite: [        nan         nan -7.89264043]\n",
      "  warnings.warn(\n",
      "/Users/henrystoll/SDK/anaconda3/envs/p-nlp/lib/python3.9/site-packages/sklearn/model_selection/_search.py:922: UserWarning: One or more of the test scores are non-finite: [        nan         nan -1.18708235]\n",
      "  warnings.warn(\n",
      "/Users/henrystoll/SDK/anaconda3/envs/p-nlp/lib/python3.9/site-packages/sklearn/model_selection/_search.py:922: UserWarning: One or more of the test scores are non-finite: [        nan         nan -4.62200199]\n",
      "  warnings.warn(\n",
      "/Users/henrystoll/SDK/anaconda3/envs/p-nlp/lib/python3.9/site-packages/sklearn/model_selection/_search.py:922: UserWarning: One or more of the test scores are non-finite: [        nan         nan -0.00090801]\n",
      "  warnings.warn(\n",
      "/Users/henrystoll/SDK/anaconda3/envs/p-nlp/lib/python3.9/site-packages/sklearn/model_selection/_search.py:922: UserWarning: One or more of the test scores are non-finite: [            nan             nan -4.54529392e+15]\n",
      "  warnings.warn(\n"
     ]
    },
    {
     "name": "stdout",
     "output_type": "stream",
     "text": [
      "Environment Risk Score\n",
      "|                                              | 0           | 1                  | 2                      |\n",
      "|:---------------------------------------------|:------------|:-------------------|:-----------------------|\n",
      "| param_model                                  | LinearSVR() | LinearRegression() | ElasticNet()           |\n",
      "| mean_test_explained_variance                 | nan         | nan                | 0.0                    |\n",
      "| mean_test_max_error                          | nan         | nan                | -70.3779980082547      |\n",
      "| mean_test_neg_mean_absolute_error            | nan         | nan                | -5.009917314592742     |\n",
      "| mean_test_neg_mean_squared_error             | nan         | nan                | -62.6484452087445      |\n",
      "| mean_test_neg_root_mean_squared_error        | nan         | nan                | -7.89264042825648      |\n",
      "| mean_test_neg_mean_squared_log_error         | nan         | nan                | -1.1870823455892896    |\n",
      "| mean_test_neg_median_absolute_error          | nan         | nan                | -4.622001991745295     |\n",
      "| mean_test_r2                                 | nan         | nan                | -0.0009080128439347579 |\n",
      "| mean_test_neg_mean_absolute_percentage_error | nan         | nan                | -4545293924510922.0    |\n",
      "Fitting 5 folds for each of 3 candidates, totalling 15 fits\n"
     ]
    },
    {
     "name": "stderr",
     "output_type": "stream",
     "text": [
      "/Users/henrystoll/SDK/anaconda3/envs/p-nlp/lib/python3.9/site-packages/sklearn/model_selection/_search.py:922: UserWarning: One or more of the test scores are non-finite: [ 7.39922746e-01             nan -2.22044605e-17]\n",
      "  warnings.warn(\n",
      "/Users/henrystoll/SDK/anaconda3/envs/p-nlp/lib/python3.9/site-packages/sklearn/model_selection/_search.py:922: UserWarning: One or more of the test scores are non-finite: [-29.00247972          nan -41.75474108]\n",
      "  warnings.warn(\n",
      "/Users/henrystoll/SDK/anaconda3/envs/p-nlp/lib/python3.9/site-packages/sklearn/model_selection/_search.py:922: UserWarning: One or more of the test scores are non-finite: [-1.05896192         nan -3.16134122]\n",
      "  warnings.warn(\n",
      "/Users/henrystoll/SDK/anaconda3/envs/p-nlp/lib/python3.9/site-packages/sklearn/model_selection/_search.py:922: UserWarning: One or more of the test scores are non-finite: [ -6.9559469           nan -26.14079965]\n",
      "  warnings.warn(\n",
      "/Users/henrystoll/SDK/anaconda3/envs/p-nlp/lib/python3.9/site-packages/sklearn/model_selection/_search.py:922: UserWarning: One or more of the test scores are non-finite: [-2.61629471         nan -5.09968619]\n",
      "  warnings.warn(\n",
      "/Users/henrystoll/SDK/anaconda3/envs/p-nlp/lib/python3.9/site-packages/sklearn/model_selection/_search.py:922: UserWarning: One or more of the test scores are non-finite: [-0.02857175         nan -0.13535898]\n",
      "  warnings.warn(\n",
      "/Users/henrystoll/SDK/anaconda3/envs/p-nlp/lib/python3.9/site-packages/sklearn/model_selection/_search.py:922: UserWarning: One or more of the test scores are non-finite: [-0.46224502         nan -2.24525892]\n",
      "  warnings.warn(\n",
      "/Users/henrystoll/SDK/anaconda3/envs/p-nlp/lib/python3.9/site-packages/sklearn/model_selection/_search.py:922: UserWarning: One or more of the test scores are non-finite: [ 0.73788336         nan -0.00077696]\n",
      "  warnings.warn(\n",
      "/Users/henrystoll/SDK/anaconda3/envs/p-nlp/lib/python3.9/site-packages/sklearn/model_selection/_search.py:922: UserWarning: One or more of the test scores are non-finite: [-0.11723673         nan -0.363262  ]\n",
      "  warnings.warn(\n"
     ]
    },
    {
     "name": "stdout",
     "output_type": "stream",
     "text": [
      "Social Risk Score\n",
      "|                                              | 0                    | 1                  | 2                       |\n",
      "|:---------------------------------------------|:---------------------|:-------------------|:------------------------|\n",
      "| param_model                                  | LinearSVR()          | LinearRegression() | ElasticNet()            |\n",
      "| mean_test_explained_variance                 | 0.7399227455836923   | nan                | -2.2204460492503132e-17 |\n",
      "| mean_test_max_error                          | -29.002479719690207  | nan                | -41.75474108018693      |\n",
      "| mean_test_neg_mean_absolute_error            | -1.058961916517766   | nan                | -3.1613412155475626     |\n",
      "| mean_test_neg_mean_squared_error             | -6.955946896090015   | nan                | -26.140799648201085     |\n",
      "| mean_test_neg_root_mean_squared_error        | -2.6162947071344527  | nan                | -5.099686190571331      |\n",
      "| mean_test_neg_mean_squared_log_error         | -0.02857175283863956 | nan                | -0.1353589776532861     |\n",
      "| mean_test_neg_median_absolute_error          | -0.46224502218678953 | nan                | -2.245258919813071      |\n",
      "| mean_test_r2                                 | 0.7378833583414723   | nan                | -0.0007769639667758899  |\n",
      "| mean_test_neg_mean_absolute_percentage_error | -0.11723673420857865 | nan                | -0.3632620036474954     |\n",
      "Fitting 5 folds for each of 3 candidates, totalling 15 fits\n",
      "Governance Risk Score\n",
      "|                                              | 0                     | 1                     | 2                       |\n",
      "|:---------------------------------------------|:----------------------|:----------------------|:------------------------|\n",
      "| param_model                                  | LinearSVR()           | LinearRegression()    | ElasticNet()            |\n",
      "| mean_test_explained_variance                 | 0.588476901144899     | 0.9552505238742874    | -4.4408920985006264e-17 |\n",
      "| mean_test_max_error                          | -47.12521666251071    | -12.885384177866964   | -59.042982295824494     |\n",
      "| mean_test_neg_mean_absolute_error            | -0.7977794794891      | -0.774383149145812    | -2.60789601094455       |\n",
      "| mean_test_neg_mean_squared_error             | -13.469313906153996   | -1.3651483742524575   | -31.72179123935563      |\n",
      "| mean_test_neg_root_mean_squared_error        | -3.623444821949145    | -1.1666727661532619   | -5.59829206621284       |\n",
      "| mean_test_neg_mean_squared_log_error         | -0.015071546338370222 | -0.017231085206728444 | -0.1252436648787946     |\n",
      "| mean_test_neg_median_absolute_error          | -0.3170677197231667   | -0.5545123470663698   | -1.9570177041755117     |\n",
      "| mean_test_r2                                 | 0.5843989372009901    | 0.9552230455552027    | -0.0012306629602100382  |\n",
      "| mean_test_neg_mean_absolute_percentage_error | -0.07370062737561704  | -0.10971789677582569  | -0.3376518485587495     |\n"
     ]
    }
   ],
   "source": [
    "X = df['text_tokenized']\n",
    "\n",
    "pipe = Pipeline([\n",
    "    ('vect', TfidfVectorizer(max_features=30_000, stop_words='english', strip_accents='ascii')),\n",
    "    # ('scale', StandardScaler(with_mean=False)),\n",
    "    ('model', LinearSVR())\n",
    "])\n",
    "\n",
    "search_grid = {\n",
    "    'model': [LinearSVR(), LinearRegression(), ElasticNet()]\n",
    "}\n",
    "\n",
    "grid = GridSearchCV(pipe, search_grid, n_jobs=-1, verbose=2,\n",
    "                    scoring=['explained_variance',\n",
    "                             'max_error',\n",
    "                             'neg_mean_absolute_error',\n",
    "                             'neg_mean_squared_error',\n",
    "                             'neg_root_mean_squared_error',\n",
    "                             'neg_mean_squared_log_error',\n",
    "                             'neg_median_absolute_error',\n",
    "                             'r2',\n",
    "                             'neg_mean_absolute_percentage_error'\n",
    "                             ], refit='neg_root_mean_squared_error')\n",
    "\n",
    "y_to_test = ['Total ESG Risk Score',\n",
    "                  'Environment Risk Score',\n",
    "                  'Social Risk Score',\n",
    "                  'Governance Risk Score']\n",
    "\n",
    "results = {}\n",
    "for y_key in y_to_test:\n",
    "    y = df[y_key]\n",
    "\n",
    "    X_train, X_test, y_train, y_test = train_test_split(X, y, test_size=0.2, random_state=0)\n",
    "\n",
    "    ss = StandardScaler()\n",
    "    # y_train = ss.fit_transform(y_train.to_numpy().reshape(-1, 1))\n",
    "    # y_test = ss.transform(y_test.to_numpy().reshape(-1, 1))\n",
    "\n",
    "    grid.fit(X_train, y_train)\n",
    "    results_cv = pd.DataFrame(grid.cv_results_)\n",
    "    results[y_key] = results_cv\n",
    "    mean_test_cols = results_cv.columns[results_cv.columns.map(lambda s: s.startswith('mean_test_'))]\n",
    "    print(y_key)\n",
    "    print(results_cv[['param_model', *mean_test_cols]].T.to_markdown())\n"
   ],
   "metadata": {
    "collapsed": false,
    "pycharm": {
     "name": "#%%\n"
    }
   }
  },
  {
   "cell_type": "code",
   "execution_count": 20,
   "outputs": [
    {
     "ename": "ImportError",
     "evalue": "You must import Comet before these modules: sklearn",
     "output_type": "error",
     "traceback": [
      "\u001B[0;31m---------------------------------------------------------------------------\u001B[0m",
      "\u001B[0;31mImportError\u001B[0m                               Traceback (most recent call last)",
      "\u001B[0;32m<ipython-input-20-348b50941122>\u001B[0m in \u001B[0;36m<module>\u001B[0;34m\u001B[0m\n\u001B[1;32m      2\u001B[0m \u001B[0;31m# print(r.head(1))\u001B[0m\u001B[0;34m\u001B[0m\u001B[0;34m\u001B[0m\u001B[0;34m\u001B[0m\u001B[0m\n\u001B[1;32m      3\u001B[0m \u001B[0;32mfor\u001B[0m \u001B[0mi\u001B[0m\u001B[0;34m,\u001B[0m \u001B[0mrow\u001B[0m \u001B[0;32min\u001B[0m \u001B[0mcv_res\u001B[0m\u001B[0;34m.\u001B[0m\u001B[0miterrows\u001B[0m\u001B[0;34m(\u001B[0m\u001B[0;34m)\u001B[0m\u001B[0;34m:\u001B[0m\u001B[0;34m\u001B[0m\u001B[0;34m\u001B[0m\u001B[0m\n\u001B[0;32m----> 4\u001B[0;31m     exp = Experiment(workspace=\"henrystoll\",\n\u001B[0m\u001B[1;32m      5\u001B[0m                      \u001B[0mproject_name\u001B[0m\u001B[0;34m=\u001B[0m\u001B[0;34m\"nlp-token-sklearn-regressors\"\u001B[0m\u001B[0;34m,\u001B[0m\u001B[0;34m\u001B[0m\u001B[0;34m\u001B[0m\u001B[0m\n\u001B[1;32m      6\u001B[0m                      api_key=\"HeH9EtfDC2KUlCOjeQaU1CuOM\",)\n",
      "\u001B[0;32m~/SDK/anaconda3/envs/p-nlp/lib/python3.9/site-packages/comet_ml/__init__.py\u001B[0m in \u001B[0;36m__init__\u001B[0;34m(self, api_key, project_name, workspace, log_code, log_graph, auto_param_logging, auto_metric_logging, parse_args, auto_output_logging, log_env_details, log_git_metadata, log_git_patch, disabled, log_env_gpu, log_env_host, display_summary, log_env_cpu, display_summary_level, optimizer_data, auto_weight_logging, auto_log_co2, auto_metric_step_rate, auto_histogram_tensorboard_logging, auto_histogram_epoch_rate, auto_histogram_weight_logging, auto_histogram_gradient_logging, auto_histogram_activation_logging)\u001B[0m\n\u001B[1;32m    259\u001B[0m             )\n\u001B[1;32m    260\u001B[0m \u001B[0;34m\u001B[0m\u001B[0m\n\u001B[0;32m--> 261\u001B[0;31m         super(Experiment, self).__init__(\n\u001B[0m\u001B[1;32m    262\u001B[0m             \u001B[0mproject_name\u001B[0m\u001B[0;34m=\u001B[0m\u001B[0mproject_name\u001B[0m\u001B[0;34m,\u001B[0m\u001B[0;34m\u001B[0m\u001B[0;34m\u001B[0m\u001B[0m\n\u001B[1;32m    263\u001B[0m             \u001B[0mworkspace\u001B[0m\u001B[0;34m=\u001B[0m\u001B[0mworkspace\u001B[0m\u001B[0;34m,\u001B[0m\u001B[0;34m\u001B[0m\u001B[0;34m\u001B[0m\u001B[0m\n",
      "\u001B[0;32m~/SDK/anaconda3/envs/p-nlp/lib/python3.9/site-packages/comet_ml/experiment.py\u001B[0m in \u001B[0;36m__init__\u001B[0;34m(self, project_name, workspace, log_code, log_graph, auto_param_logging, auto_metric_logging, parse_args, auto_output_logging, log_env_details, log_git_metadata, log_git_patch, disabled, log_env_gpu, log_env_host, display_summary, log_env_cpu, display_summary_level, optimizer_data, auto_weight_logging, auto_log_co2, auto_metric_step_rate, auto_histogram_tensorboard_logging, auto_histogram_epoch_rate, auto_histogram_weight_logging, auto_histogram_gradient_logging, auto_histogram_activation_logging)\u001B[0m\n\u001B[1;32m    460\u001B[0m                     \u001B[0mALREADY_IMPORTED_MODULES\u001B[0m\u001B[0;34m\u001B[0m\u001B[0;34m\u001B[0m\u001B[0m\n\u001B[1;32m    461\u001B[0m                 )\n\u001B[0;32m--> 462\u001B[0;31m                 \u001B[0;32mraise\u001B[0m \u001B[0mImportError\u001B[0m\u001B[0;34m(\u001B[0m\u001B[0mmsg\u001B[0m\u001B[0;34m)\u001B[0m\u001B[0;34m\u001B[0m\u001B[0;34m\u001B[0m\u001B[0m\n\u001B[0m\u001B[1;32m    463\u001B[0m \u001B[0;34m\u001B[0m\u001B[0m\n\u001B[1;32m    464\u001B[0m         \u001B[0;31m# Generate a unique identifier for this experiment.\u001B[0m\u001B[0;34m\u001B[0m\u001B[0;34m\u001B[0m\u001B[0;34m\u001B[0m\u001B[0m\n",
      "\u001B[0;31mImportError\u001B[0m: You must import Comet before these modules: sklearn"
     ]
    }
   ],
   "source": [
    "cv_res = pd.DataFrame(grid.cv_results_)\n",
    "# print(r.head(1))\n",
    "for i, row in cv_res.iterrows():\n",
    "    exp = Experiment(workspace=\"henrystoll\",\n",
    "                     project_name=\"nlp-token-sklearn-regressors\",\n",
    "                     api_key=\"HeH9EtfDC2KUlCOjeQaU1CuOM\",)\n",
    "    for k, v in row.items():\n",
    "        if k.startswith('mean_') or k.startswith('std_'):\n",
    "            exp.log_metric(k, v)\n",
    "        elif k.startswith('param_'):\n",
    "            exp.log_parameter(k, v)\n",
    "    exp.end()\n"
   ],
   "metadata": {
    "collapsed": false,
    "pycharm": {
     "name": "#%%\n"
    }
   }
  },
  {
   "cell_type": "code",
   "execution_count": 18,
   "outputs": [],
   "source": [
    "# print(grid.best_params_)\n",
    "# print(grid.best_score_)\n",
    "#\n",
    "# reg = grid.best_estimator_.named_steps['model']\n",
    "# vect = grid.best_estimator_.named_steps['vect']\n",
    "# zipped = zip(vect.get_feature_names(), reg.feature_importances_)\n",
    "# feature_importance = pd.DataFrame(zipped, columns=[\"feature\", \"value\"])\n",
    "#\n",
    "# feature_importance = feature_importance.sort_values('value', ascending=False)\n",
    "#\n",
    "# sns.barplot(data=feature_importance[:30], y='feature', x='value')\n",
    "# # results_cv.sort_values('rank_test_score')\n",
    "# # print(results_cv.T.to_markdown())\n",
    "# mean_test_cols = results_cv.columns[results_cv.columns.map(lambda s: s.startswith('mean_test_'))]\n",
    "# print(results_cv[['param_vect', *mean_test_cols]].T.to_markdown())"
   ],
   "metadata": {
    "collapsed": false,
    "pycharm": {
     "name": "#%%\n"
    }
   }
  },
  {
   "cell_type": "markdown",
   "source": [
    "\n",
    "|Total ESG Risk Score                          | 0                     | 1                     | 2                       |\n",
    "|:---------------------------------------------|:----------------------|:----------------------|:------------------------|\n",
    "| param_model                                  | LinearSVR()           | SGDRegressor()        | RandomForestRegressor() |\n",
    "| mean_test_explained_variance                 | 0.751242580686977     | 0.8154669165991736    | 0.7613766782894824      |\n",
    "| mean_test_max_error                          | -26.346254265353814   | -19.47149588045149    | -21.598000000000003     |\n",
    "| mean_test_neg_mean_absolute_error            | -2.138348371848208    | -2.2630201555505347   | -2.5417966824286937     |\n",
    "| mean_test_neg_mean_squared_error             | -14.523104357803003   | -10.60663541306786    | -13.712961378783309     |\n",
    "| mean_test_neg_root_mean_squared_error        | -3.8080251247747725   | -3.2555025722622046   | -3.7023434605600416     |\n",
    "| mean_test_neg_mean_squared_log_error         | -0.018982889292448225 | -0.018974737715976252 | -0.02415040750669572    |\n",
    "| mean_test_neg_median_absolute_error          | -1.0174032694478012   | -1.564787548340088    | -1.7280000000000002     |\n",
    "| mean_test_r2                                 | 0.7474499133539391    | 0.8149026086158415    | 0.761093041358932       |\n",
    "| mean_test_neg_mean_absolute_percentage_error | -0.09171305967740542  | -0.10307275119347678  | -0.11766092295975623    |\n",
    "\n",
    "\n",
    "\n",
    "|Total ESG Risk Score                             | 0                    | 1                    | 2                       |\n",
    "|:---------------------------------------------|:---------------------|:---------------------|:------------------------|\n",
    "| param_model                                  | LinearSVR()          | LinearRegression()   | ElasticNet()            |\n",
    "| mean_test_explained_variance                 | 0.7512395445435482   | 0.9232680755301697   | -4.4408920985006264e-17 |\n",
    "| mean_test_max_error                          | -26.34464229727024   | -13.396528120978655  | -39.02175759520602      |\n",
    "| mean_test_neg_mean_absolute_error            | -2.1383810928993423  | -1.476952818114634   | -6.025473408101753      |\n",
    "| mean_test_neg_mean_squared_error             | -14.522703329521537  | -4.40387227401729    | -57.46577452613603      |\n",
    "| mean_test_neg_root_mean_squared_error        | -3.8079725308846846  | -2.097962545933362   | -7.578787308191527      |\n",
    "| mean_test_neg_mean_squared_log_error         | -0.01898381375549841 | -0.00852186685556139 | -0.0906338825809017     |\n",
    "| mean_test_neg_median_absolute_error          | -1.0172074335594896  | -1.0631812874606066  | -5.031923231750864      |\n",
    "| mean_test_r2                                 | 0.7474568990832857   | 0.9232262712182123   | -0.0007438103962948528  |\n",
    "| mean_test_neg_mean_absolute_percentage_error | -0.0917192033023878  | -0.06817086305555907 | -0.281651381138203      |\n",
    "\n",
    "\n",
    "\n",
    "| Environment Risk Score  | 0           | 1                  | 2                      |\n",
    "|:---------------------------------------------|:------------|:-------------------|:-----------------------|\n",
    "| param_model                                  | LinearSVR() | LinearRegression() | ElasticNet()           |\n",
    "| mean_test_explained_variance                 | nan         | nan                | 0.0                    |\n",
    "| mean_test_max_error                          | nan         | nan                | -70.3779980082547      |\n",
    "| mean_test_neg_mean_absolute_error            | nan         | nan                | -5.009917314592742     |\n",
    "| mean_test_neg_mean_squared_error             | nan         | nan                | -62.6484452087445      |\n",
    "| mean_test_neg_root_mean_squared_error        | nan         | nan                | -7.89264042825648      |\n",
    "| mean_test_neg_mean_squared_log_error         | nan         | nan                | -1.1870823455892896    |\n",
    "| mean_test_neg_median_absolute_error          | nan         | nan                | -4.622001991745295     |\n",
    "| mean_test_r2                                 | nan         | nan                | -0.0009080128439347579 |\n",
    "| mean_test_neg_mean_absolute_percentage_error | nan         | nan                | -4545293924510922.0    |\n",
    "\n",
    "\n",
    "|Social Risk Score| 0                    | 1                  | 2                       |\n",
    "|:---------------------------------------------|:---------------------|:-------------------|:------------------------|\n",
    "| param_model                                  | LinearSVR()          | LinearRegression() | ElasticNet()            |\n",
    "| mean_test_explained_variance                 | 0.7399227455836923   | nan                | -2.2204460492503132e-17 |\n",
    "| mean_test_max_error                          | -29.002479719690207  | nan                | -41.75474108018693      |\n",
    "| mean_test_neg_mean_absolute_error            | -1.058961916517766   | nan                | -3.1613412155475626     |\n",
    "| mean_test_neg_mean_squared_error             | -6.955946896090015   | nan                | -26.140799648201085     |\n",
    "| mean_test_neg_root_mean_squared_error        | -2.6162947071344527  | nan                | -5.099686190571331      |\n",
    "| mean_test_neg_mean_squared_log_error         | -0.02857175283863956 | nan                | -0.1353589776532861     |\n",
    "| mean_test_neg_median_absolute_error          | -0.46224502218678953 | nan                | -2.245258919813071      |\n",
    "| mean_test_r2                                 | 0.7378833583414723   | nan                | -0.0007769639667758899  |\n",
    "| mean_test_neg_mean_absolute_percentage_error | -0.11723673420857865 | nan                | -0.3632620036474954     |\n",
    "\n",
    "\n",
    "|Governance Risk Score| 0                     | 1                     | 2                       |\n",
    "|:---------------------------------------------|:----------------------|:----------------------|:------------------------|\n",
    "| param_model                                  | LinearSVR()           | LinearRegression()    | ElasticNet()            |\n",
    "| mean_test_explained_variance                 | 0.588476901144899     | 0.9552505238742874    | -4.4408920985006264e-17 |\n",
    "| mean_test_max_error                          | -47.12521666251071    | -12.885384177866964   | -59.042982295824494     |\n",
    "| mean_test_neg_mean_absolute_error            | -0.7977794794891      | -0.774383149145812    | -2.60789601094455       |\n",
    "| mean_test_neg_mean_squared_error             | -13.469313906153996   | -1.3651483742524575   | -31.72179123935563      |\n",
    "| mean_test_neg_root_mean_squared_error        | -3.623444821949145    | -1.1666727661532619   | -5.59829206621284       |\n",
    "| mean_test_neg_mean_squared_log_error         | -0.015071546338370222 | -0.017231085206728444 | -0.1252436648787946     |\n",
    "| mean_test_neg_median_absolute_error          | -0.3170677197231667   | -0.5545123470663698   | -1.9570177041755117     |\n",
    "| mean_test_r2                                 | 0.5843989372009901    | 0.9552230455552027    | -0.0012306629602100382  |\n",
    "| mean_test_neg_mean_absolute_percentage_error | -0.07370062737561704  | -0.10971789677582569  | -0.3376518485587495     |"
   ],
   "metadata": {
    "collapsed": false,
    "pycharm": {
     "name": "#%% md\n"
    }
   }
  }
 ],
 "metadata": {
  "kernelspec": {
   "display_name": "Python 3",
   "language": "python",
   "name": "python3"
  },
  "language_info": {
   "codemirror_mode": {
    "name": "ipython",
    "version": 2
   },
   "file_extension": ".py",
   "mimetype": "text/x-python",
   "name": "python",
   "nbconvert_exporter": "python",
   "pygments_lexer": "ipython2",
   "version": "2.7.6"
  }
 },
 "nbformat": 4,
 "nbformat_minor": 0
}