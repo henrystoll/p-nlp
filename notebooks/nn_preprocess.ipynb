{
 "cells": [
  {
   "cell_type": "code",
   "execution_count": 2,
   "metadata": {
    "collapsed": true,
    "pycharm": {
     "name": "#%%\n"
    }
   },
   "outputs": [],
   "source": [
    "import pandas as pd\n",
    "from sklearn.model_selection import train_test_split"
   ]
  },
  {
   "cell_type": "code",
   "execution_count": 9,
   "outputs": [
    {
     "name": "stdout",
     "output_type": "stream",
     "text": [
      "username                   object\n",
      "text                       object\n",
      "Ticker                     object\n",
      "Name                       object\n",
      "Industry                   object\n",
      "Total ESG Risk Score        int64\n",
      "Environment Risk Score    float64\n",
      "Social Risk Score         float64\n",
      "Governance Risk Score     float64\n",
      "user_id                     int64\n",
      "text_tokenized             object\n",
      "dtype: object\n"
     ]
    }
   ],
   "source": [
    "df = pd.read_csv('../50_tweets_companies.zip')\n",
    "df = df.drop('Unnamed: 0', axis=1)\n",
    "print(df.dtypes)\n",
    "train_test_ratio = 0.10\n",
    "train_valid_ratio = 0.80\n",
    "\n",
    "def encode_esg_category(x):\n",
    "    switch = [20, 30, 40]\n",
    "\n",
    "    for i, a in enumerate(switch):\n",
    "        if x < a:\n",
    "            return i\n",
    "    return len(switch)\n",
    "\n",
    "\n",
    "df['label'] = df['Total ESG Risk Score'].transform(encode_esg_category)\n",
    "\n",
    "\n",
    "\n",
    "df_new =df[['text_tokenized', 'label']]\n",
    "\n",
    "df_new.to_csv('../data/tweets_50.csv')"
   ],
   "metadata": {
    "collapsed": false,
    "pycharm": {
     "name": "#%%\n"
    }
   }
  },
  {
   "cell_type": "code",
   "execution_count": 8,
   "outputs": [
    {
     "data": {
      "text/plain": "Series([], Name: Total ESG Risk Score, dtype: int64)"
     },
     "execution_count": 8,
     "metadata": {},
     "output_type": "execute_result"
    }
   ],
   "source": [
    "df['Total ESG Risk Score'][df['Total ESG Risk Score'] < 10]"
   ],
   "metadata": {
    "collapsed": false,
    "pycharm": {
     "name": "#%%\n"
    }
   }
  }
 ],
 "metadata": {
  "kernelspec": {
   "display_name": "Python 3",
   "language": "python",
   "name": "python3"
  },
  "language_info": {
   "codemirror_mode": {
    "name": "ipython",
    "version": 2
   },
   "file_extension": ".py",
   "mimetype": "text/x-python",
   "name": "python",
   "nbconvert_exporter": "python",
   "pygments_lexer": "ipython2",
   "version": "2.7.6"
  }
 },
 "nbformat": 4,
 "nbformat_minor": 0
}