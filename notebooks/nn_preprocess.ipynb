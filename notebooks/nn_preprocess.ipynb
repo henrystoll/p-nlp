{
 "cells": [
  {
   "cell_type": "code",
   "execution_count": 6,
   "metadata": {
    "collapsed": true,
    "pycharm": {
     "name": "#%%\n"
    }
   },
   "outputs": [
    {
     "name": "stdout",
     "output_type": "stream",
     "text": [
      "username                   object\n",
      "text                       object\n",
      "Ticker                     object\n",
      "Name                       object\n",
      "Industry                   object\n",
      "Total ESG Risk Score        int64\n",
      "Environment Risk Score    float64\n",
      "Social Risk Score         float64\n",
      "Governance Risk Score     float64\n",
      "user_id                     int64\n",
      "dtype: object\n"
     ]
    },
    {
     "data": {
      "text/plain": "       label  Total ESG Risk Score\nindex                             \n0          3                    34\n1          3                    31\n2          3                    30\n3          1                    15\n4          2                    26\n...      ...                   ...\n295        2                    27\n296        1                    14\n297        3                    34\n298        2                    21\n299        4                    43\n\n[300 rows x 2 columns]",
      "text/html": "<div>\n<style scoped>\n    .dataframe tbody tr th:only-of-type {\n        vertical-align: middle;\n    }\n\n    .dataframe tbody tr th {\n        vertical-align: top;\n    }\n\n    .dataframe thead th {\n        text-align: right;\n    }\n</style>\n<table border=\"1\" class=\"dataframe\">\n  <thead>\n    <tr style=\"text-align: right;\">\n      <th></th>\n      <th>label</th>\n      <th>Total ESG Risk Score</th>\n    </tr>\n    <tr>\n      <th>index</th>\n      <th></th>\n      <th></th>\n    </tr>\n  </thead>\n  <tbody>\n    <tr>\n      <th>0</th>\n      <td>3</td>\n      <td>34</td>\n    </tr>\n    <tr>\n      <th>1</th>\n      <td>3</td>\n      <td>31</td>\n    </tr>\n    <tr>\n      <th>2</th>\n      <td>3</td>\n      <td>30</td>\n    </tr>\n    <tr>\n      <th>3</th>\n      <td>1</td>\n      <td>15</td>\n    </tr>\n    <tr>\n      <th>4</th>\n      <td>2</td>\n      <td>26</td>\n    </tr>\n    <tr>\n      <th>...</th>\n      <td>...</td>\n      <td>...</td>\n    </tr>\n    <tr>\n      <th>295</th>\n      <td>2</td>\n      <td>27</td>\n    </tr>\n    <tr>\n      <th>296</th>\n      <td>1</td>\n      <td>14</td>\n    </tr>\n    <tr>\n      <th>297</th>\n      <td>3</td>\n      <td>34</td>\n    </tr>\n    <tr>\n      <th>298</th>\n      <td>2</td>\n      <td>21</td>\n    </tr>\n    <tr>\n      <th>299</th>\n      <td>4</td>\n      <td>43</td>\n    </tr>\n  </tbody>\n</table>\n<p>300 rows × 2 columns</p>\n</div>"
     },
     "execution_count": 6,
     "metadata": {},
     "output_type": "execute_result"
    }
   ],
   "source": [
    "import pandas as pd\n",
    "from sklearn.model_selection import train_test_split\n",
    "\n",
    "df = pd.read_parquet('../data/300_companies_tweets.parquet.gzip')\n",
    "print(df.dtypes)\n",
    "train_test_ratio = 0.10\n",
    "train_valid_ratio = 0.80\n",
    "\n",
    "def encode_esg_category(x):\n",
    "    switch = [10, 20, 30, 40]\n",
    "\n",
    "    for i, a in enumerate(switch):\n",
    "        if x < a:\n",
    "            return i\n",
    "    return len(switch)\n",
    "\n",
    "\n",
    "df['label'] = df['Total ESG Risk Score'].transform(encode_esg_category)\n",
    "df['text_norm'] = df['text'].transform"
   ]
  }
 ],
 "metadata": {
  "kernelspec": {
   "display_name": "Python 3",
   "language": "python",
   "name": "python3"
  },
  "language_info": {
   "codemirror_mode": {
    "name": "ipython",
    "version": 2
   },
   "file_extension": ".py",
   "mimetype": "text/x-python",
   "name": "python",
   "nbconvert_exporter": "python",
   "pygments_lexer": "ipython2",
   "version": "2.7.6"
  }
 },
 "nbformat": 4,
 "nbformat_minor": 0
}