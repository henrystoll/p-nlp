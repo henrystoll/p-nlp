{
 "cells": [
  {
   "cell_type": "code",
   "execution_count": 1,
   "metadata": {
    "collapsed": true,
    "pycharm": {
     "name": "#%%\n"
    }
   },
   "outputs": [],
   "source": [
    "import matplotlib.pyplot as plt\n",
    "import numpy as np\n",
    "import pandas as pd\n",
    "import seaborn as sns\n",
    "from sklearn.model_selection import train_test_split"
   ]
  },
  {
   "cell_type": "code",
   "execution_count": 2,
   "outputs": [
    {
     "name": "stdout",
     "output_type": "stream",
     "text": [
      "username                   object\n",
      "text                       object\n",
      "Ticker                     object\n",
      "Name                       object\n",
      "Industry                   object\n",
      "Total ESG Risk Score        int64\n",
      "Environment Risk Score    float64\n",
      "Social Risk Score         float64\n",
      "Governance Risk Score     float64\n",
      "user_id                     int64\n",
      "text_tokenized             object\n",
      "dtype: object\n"
     ]
    },
    {
     "data": {
      "text/plain": "<Figure size 432x288 with 1 Axes>",
      "image/png": "[encoded data removed]"
     },
     "metadata": {
      "needs_background": "light"
     },
     "output_type": "display_data"
    }
   ],
   "source": [
    "from sklearn.preprocessing import KBinsDiscretizer\n",
    "\n",
    "df = pd.read_csv('../50_tweets_companies.zip')\n",
    "df = df.drop('Unnamed: 0', axis=1)\n",
    "print(df.dtypes)\n",
    "def encode_esg_category(x):\n",
    "    switch = [20, 30, 40]\n",
    "\n",
    "    for i, a in enumerate(switch):\n",
    "        if x < a:\n",
    "            return i\n",
    "    return 2\n",
    "\n",
    "df['label'] = df['Total ESG Risk Score'].transform(encode_esg_category)\n",
    "\n",
    "\n",
    "usernames = df['username'].unique()\n",
    "np.random.seed(30)\n",
    "np.random.shuffle(usernames)\n",
    "\n",
    "train_split = 0.8\n",
    "train_size = int(train_split * usernames.shape[0])\n",
    "train_usernames = usernames[:train_size]\n",
    "# test_usernames = usernames[train_size:]\n",
    "\n",
    "# shuffles dataset\n",
    "df = df.sample(frac=1)\n",
    "train_mask = df['username'].isin(train_usernames)\n",
    "test_mask = ~df['username'].isin(train_usernames)\n",
    "\n",
    "\n",
    "df_new = df[['text_tokenized', 'label']]\n",
    "train_df = df_new[train_mask]\n",
    "test_df = df_new[test_mask]\n",
    "\n",
    "\n",
    "train_df.to_csv('../data/tweets_50_shuffled_train.csv')\n",
    "test_df.to_csv('../data/tweets_50_shuffled_test.csv')\n",
    "\n",
    "# print(train_df.shape)\n",
    "# print(test_df.shape)\n",
    "#\n",
    "# X_train = train_df['text_tokenized']\n",
    "y_train = train_df['label']\n",
    "# X_test = test_df['text_tokenized']\n",
    "y_test = test_df['label']\n",
    "\n",
    "sns.countplot(x=y_train);"
   ],
   "metadata": {
    "collapsed": false,
    "pycharm": {
     "name": "#%%\n"
    }
   }
  },
  {
   "cell_type": "code",
   "execution_count": 3,
   "outputs": [
    {
     "data": {
      "text/plain": "<Figure size 432x288 with 1 Axes>",
      "image/png": "[encoded data removed]"
     },
     "metadata": {
      "needs_background": "light"
     },
     "output_type": "display_data"
    }
   ],
   "source": [
    "sns.countplot(x=y_test);"
   ],
   "metadata": {
    "collapsed": false,
    "pycharm": {
     "name": "#%%\n"
    }
   }
  },
  {
   "cell_type": "code",
   "execution_count": 4,
   "outputs": [
    {
     "data": {
      "text/plain": "1    4577\n0    2991\n2    2085\nName: label, dtype: int64"
     },
     "execution_count": 4,
     "metadata": {},
     "output_type": "execute_result"
    }
   ],
   "source": [
    "\n",
    "# df['Total ESG Risk Score'][df['Total ESG Risk Score'] < 10]\n",
    "# bins = KBinsDiscretizer(encode='ordinal', strategy='uniform')\n",
    "# df['env'] = bins.fit_transform(df['Environment Risk Score'].to_numpy().reshape(-1, 1))\n",
    "#\n",
    "df['label'].value_counts()\n",
    "# df['Environment Risk Score'].mean()"
   ],
   "metadata": {
    "collapsed": false,
    "pycharm": {
     "name": "#%%\n"
    }
   }
  }
 ],
 "metadata": {
  "kernelspec": {
   "display_name": "Python 3",
   "language": "python",
   "name": "python3"
  },
  "language_info": {
   "codemirror_mode": {
    "name": "ipython",
    "version": 2
   },
   "file_extension": ".py",
   "mimetype": "text/x-python",
   "name": "python",
   "nbconvert_exporter": "python",
   "pygments_lexer": "ipython2",
   "version": "2.7.6"
  }
 },
 "nbformat": 4,
 "nbformat_minor": 0
}