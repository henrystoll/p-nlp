{
 "cells": [
  {
   "cell_type": "markdown",
   "source": [
    "# Testing out different Vectorizers and regressors\n",
    "\n",
    "## Vectorizers\n",
    "\n",
    "    1. tf-idf vs tf vs count\n",
    "    2. max_features?\n",
    "    3. stop_words?\n",
    "    4. ngrams?\n",
    "\n",
    "Feature importance?\n"
   ],
   "metadata": {
    "collapsed": false,
    "pycharm": {
     "name": "#%% md\n"
    }
   }
  },
  {
   "cell_type": "code",
   "execution_count": 7,
   "metadata": {
    "collapsed": true
   },
   "outputs": [],
   "source": [
    "from comet_ml import Experiment\n",
    "import pandas as pd\n",
    "from sklearn.ensemble import RandomForestClassifier\n",
    "from sklearn.feature_extraction.text import TfidfVectorizer\n",
    "from sklearn.model_selection import train_test_split, GridSearchCV\n",
    "from sklearn.pipeline import Pipeline\n",
    "from sklearn.svm import LinearSVC"
   ]
  },
  {
   "cell_type": "code",
   "execution_count": 8,
   "outputs": [],
   "source": [
    "df = pd.read_csv('../data/tweets_50.csv')\n",
    "X = df['text_tokenized']\n",
    "y = df['label']\n",
    "X_train, X_test, y_train, y_test = train_test_split(X, y, test_size=0.2, random_state=0)"
   ],
   "metadata": {
    "collapsed": false,
    "pycharm": {
     "name": "#%%\n"
    }
   }
  },
  {
   "cell_type": "code",
   "execution_count": 9,
   "outputs": [
    {
     "name": "stdout",
     "output_type": "stream",
     "text": [
      "Fitting 5 folds for each of 1 candidates, totalling 5 fits\n"
     ]
    }
   ],
   "source": [
    "pipe = Pipeline([\n",
    "    ('vect', TfidfVectorizer()),\n",
    "    ('model', LinearSVC())\n",
    "])\n",
    "\n",
    "search_grid = {\n",
    "    # 'vect': [TfidfVectorizer(), TfidfVectorizer(use_idf=False), CountVectorizer()],\n",
    "    # 'vect__strip_accents': ['ascii'],\n",
    "    # 'vect__max_features': [10_000, 15_000, 20_000, 25_000, 30_000, 40_000, 50_000],\n",
    "    # 'vect__max_features': [10_000, 20_000, 30_000],\n",
    "    # 'vect__stop_words': ['english', None],\n",
    "    # 'vect__ngram_range': [(1, 1), (2, 2), (3, 3)]\n",
    "}\n",
    "grid = GridSearchCV(pipe, search_grid, n_jobs=6, verbose=2,\n",
    "                    scoring='accuracy')\n",
    "\n",
    "grid.fit(X_train, y_train)\n",
    "results_cv = pd.DataFrame(grid.cv_results_)"
   ],
   "metadata": {
    "collapsed": false,
    "pycharm": {
     "name": "#%%\n"
    }
   }
  },
  {
   "cell_type": "code",
   "execution_count": 10,
   "outputs": [
    {
     "name": "stdout",
     "output_type": "stream",
     "text": [
      "{}\n",
      "0.9917123597766487\n"
     ]
    }
   ],
   "source": [
    "print(grid.best_params_)\n",
    "print(grid.best_score_)\n",
    "\n",
    "clf = grid.best_estimator_.named_steps['model']\n",
    "vect = grid.best_estimator_.named_steps['vect']\n",
    "# zipped = zip(vect.get_feature_names(), reg.feature_importances_)\n",
    "# feature_importance = pd.DataFrame(zipped, columns=[\"feature\", \"value\"])\n",
    "\n",
    "# feature_importance = feature_importance.sort_values('value', ascending=False)\n",
    "\n",
    "# sns.barplot(data=feature_importance[:30], y='feature', x='value')\n",
    "# results_cv.sort_values('rank_test_score')\n",
    "# print(results_cv.T.to_markdown())\n",
    "# mean_test_cols = results_cv.columns[results_cv.columns.map(lambda s: s.startswith('mean_test_'))]\n",
    "# print(results_cv[['param_vect', *mean_test_cols]].T.to_markdown())"
   ],
   "metadata": {
    "collapsed": false,
    "pycharm": {
     "name": "#%%\n"
    }
   }
  },
  {
   "cell_type": "code",
   "source": [
    "for i in range(len(grid.cv_results_['params'])):\n",
    "\n",
    "    exp = Experiment(workspace=\"henrystoll\",\n",
    "                     project_name=\"nlp-token-sklearn\",\n",
    "                     api_key=\"HeH9EtfDC2KUlCOjeQaU1CuOM\",)\n",
    "    for k,v in grid.cv_results_.items():\n",
    "        if k == \"params\":\n",
    "            exp.log_parameters(v[i])\n",
    "        else:\n",
    "            exp.log_metric(k,v[i])\n",
    "    exp.end()\n",
    "\n",
    "# results_cv.head()\n",
    "results_cv[['mean_fit_time', 'params', 'mean_test_score']]"
   ],
   "metadata": {
    "collapsed": false,
    "pycharm": {
     "name": "#%%\n"
    }
   },
   "execution_count": 12,
   "outputs": [
    {
     "name": "stderr",
     "output_type": "stream",
     "text": [
      "COMET INFO: ---------------------------\n",
      "COMET INFO: Comet.ml Experiment Summary\n",
      "COMET INFO: ---------------------------\n",
      "COMET INFO:   Data:\n",
      "COMET INFO:     display_summary_level : 1\n",
      "COMET INFO:     url                   : https://www.comet.ml/henrystoll/nlp-token-sklearn/baee1d6615f6455eb9c62655eec83821\n",
      "COMET INFO:   Uploads:\n",
      "COMET INFO:     environment details      : 1\n",
      "COMET INFO:     filename                 : 1\n",
      "COMET INFO:     git metadata             : 1\n",
      "COMET INFO:     git-patch (uncompressed) : 1 (240 KB)\n",
      "COMET INFO:     installed packages       : 1\n",
      "COMET INFO: ---------------------------\n",
      "COMET WARNING: As you are running in a Jupyter environment, you will need to call `experiment.end()` when finished to ensure all metrics and code are logged before exiting.\n",
      "COMET INFO: Experiment is live on comet.ml https://www.comet.ml/henrystoll/nlp-token-sklearn/96f6b72c6f214668a8077ab007903e0e\n",
      "\n",
      "COMET WARNING: Empty mapping given to log_params({}); ignoring\n",
      "COMET INFO: ---------------------------\n",
      "COMET INFO: Comet.ml Experiment Summary\n",
      "COMET INFO: ---------------------------\n",
      "COMET INFO:   Data:\n",
      "COMET INFO:     display_summary_level : 1\n",
      "COMET INFO:     url                   : https://www.comet.ml/henrystoll/nlp-token-sklearn/96f6b72c6f214668a8077ab007903e0e\n",
      "COMET INFO:   Metrics:\n",
      "COMET INFO:     mean_fit_time     : 71.8779095172882\n",
      "COMET INFO:     mean_score_time   : 12.636415243148804\n",
      "COMET INFO:     mean_test_score   : 0.9917123597766487\n",
      "COMET INFO:     rank_test_score   : 1\n",
      "COMET INFO:     split0_test_score : 0.9928802588996763\n",
      "COMET INFO:     split1_test_score : 0.9877022653721683\n",
      "COMET INFO:     split2_test_score : 0.9935233160621761\n",
      "COMET INFO:     split3_test_score : 0.9922279792746114\n",
      "COMET INFO:     split4_test_score : 0.9922279792746114\n",
      "COMET INFO:     std_fit_time      : 0.15952809068394194\n",
      "COMET INFO:     std_score_time    : 0.26611189329835544\n",
      "COMET INFO:     std_test_score    : 0.0020618503871941587\n",
      "COMET INFO:   Uploads:\n",
      "COMET INFO:     environment details      : 1\n",
      "COMET INFO:     filename                 : 1\n",
      "COMET INFO:     git metadata             : 1\n",
      "COMET INFO:     git-patch (uncompressed) : 1 (242 KB)\n",
      "COMET INFO:     installed packages       : 1\n",
      "COMET INFO:     notebook                 : 1\n",
      "COMET INFO:     source_code              : 1\n",
      "COMET INFO: ---------------------------\n",
      "COMET INFO: Uploading metrics, params, and assets to Comet before program termination (may take several seconds)\n",
      "COMET INFO: The Python SDK has 3600 seconds to finish before aborting...\n",
      "COMET INFO: Waiting for completion of the file uploads (may take several seconds)\n",
      "COMET INFO: The Python SDK has 10800 seconds to finish before aborting...\n",
      "COMET INFO: Still uploading 2 file(s)\n"
     ]
    },
    {
     "data": {
      "text/plain": "   mean_fit_time params  mean_test_score\n0       71.87791     {}         0.991712",
      "text/html": "<div>\n<style scoped>\n    .dataframe tbody tr th:only-of-type {\n        vertical-align: middle;\n    }\n\n    .dataframe tbody tr th {\n        vertical-align: top;\n    }\n\n    .dataframe thead th {\n        text-align: right;\n    }\n</style>\n<table border=\"1\" class=\"dataframe\">\n  <thead>\n    <tr style=\"text-align: right;\">\n      <th></th>\n      <th>mean_fit_time</th>\n      <th>params</th>\n      <th>mean_test_score</th>\n    </tr>\n  </thead>\n  <tbody>\n    <tr>\n      <th>0</th>\n      <td>71.87791</td>\n      <td>{}</td>\n      <td>0.991712</td>\n    </tr>\n  </tbody>\n</table>\n</div>"
     },
     "execution_count": 12,
     "metadata": {},
     "output_type": "execute_result"
    }
   ]
  }
 ],
 "metadata": {
  "kernelspec": {
   "display_name": "Python 3",
   "language": "python",
   "name": "python3"
  },
  "language_info": {
   "codemirror_mode": {
    "name": "ipython",
    "version": 2
   },
   "file_extension": ".py",
   "mimetype": "text/x-python",
   "name": "python",
   "nbconvert_exporter": "python",
   "pygments_lexer": "ipython2",
   "version": "2.7.6"
  }
 },
 "nbformat": 4,
 "nbformat_minor": 0
}