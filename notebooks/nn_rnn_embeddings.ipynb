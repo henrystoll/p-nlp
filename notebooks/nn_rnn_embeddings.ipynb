{
 "cells": [
  {
   "cell_type": "code",
   "execution_count": 20,
   "metadata": {
    "pycharm": {
     "name": "#%%\n"
    }
   },
   "outputs": [],
   "source": [
    "import os\n",
    "from typing import List\n",
    "\n",
    "import numpy as np\n",
    "import pandas as pd\n",
    "from comet_ml import Experiment\n",
    "import tensorflow as tf\n",
    "from sklearn.model_selection import train_test_split\n",
    "from tensorflow import keras\n",
    "from tensorflow.keras import layers\n",
    "from tensorflow.keras.layers.experimental.preprocessing import TextVectorization\n",
    "# !pip install pydot\n",
    "import pydot\n",
    "import tensorflow_hub as hub"
   ]
  },
  {
   "cell_type": "code",
   "execution_count": 21,
   "metadata": {},
   "outputs": [],
   "source": [
    "train_df = pd.read_csv('../data/tweets_50_shuffled_train.csv')\n",
    "test_df = pd.read_csv('../data/tweets_50_shuffled_test.csv')\n",
    "X_train = train_df['text_tokenized']\n",
    "y_train = train_df['label']\n",
    "X_test = test_df['text_tokenized']\n",
    "y_test = test_df['label']\n",
    "\n",
    "class_names = y_train.unique()"
   ]
  },
  {
   "cell_type": "code",
   "execution_count": 22,
   "metadata": {
    "pycharm": {
     "name": "#%%\n"
    }
   },
   "outputs": [
    {
     "name": "stdout",
     "output_type": "stream",
     "text": [
      "word_index test:\n",
      "['the', 'cat', 'sat', 'on', 'the', 'mat']  -->  [4, 945, 2154, 19, 4, 7209]\n",
      "Found 400000 word vectors.\n",
      "Converted 26102 words (3898 misses)\n"
     ]
    }
   ],
   "source": [
    "batch_size = 128\n",
    "max_tokens = 30_000\n",
    "output_sequence_length= 400\n",
    "embedding_dim = 300\n",
    "\n",
    "\n",
    "\n",
    "def make_vectorizer(max_tokens: int, output_sequence_length: int) -> TextVectorization:\n",
    "    vect = TextVectorization(max_tokens=max_tokens, output_sequence_length=output_sequence_length)\n",
    "    text_ds = tf.data.Dataset.from_tensor_slices(X_train.values).batch(batch_size)\n",
    "    vect.adapt(text_ds)\n",
    "    return vect\n",
    "\n",
    "\n",
    "def get_embedding_matrix(embedding_dim, num_tokens, word_index):\n",
    "    path_to_glove_file = os.path.join(\n",
    "        os.path.expanduser(\"~\"), f\"Documents/Datasets/glove.6B.{embedding_dim}d.txt\"\n",
    "    )\n",
    "    embeddings_index = {}\n",
    "    with open(path_to_glove_file) as f:\n",
    "        for line in f:\n",
    "            word, coefs = line.split(maxsplit=1)\n",
    "            coefs = np.fromstring(coefs, \"f\", sep=\" \")\n",
    "            embeddings_index[word] = coefs\n",
    "    print(\"Found {} word vectors.\".format(len(embeddings_index)))\n",
    "    hits = 0\n",
    "    misses = 0\n",
    "    # Prepare embedding matrix\n",
    "    embedding_matrix = np.zeros((num_tokens, embedding_dim))\n",
    "    for word, i in word_index.items():\n",
    "        embedding_vector = embeddings_index.get(word)\n",
    "        if embedding_vector is not None:\n",
    "            # Words not found in embedding index will be all-zeros.\n",
    "            # This includes the representation for \"padding\" and \"OOV\"\n",
    "            embedding_matrix[i] = embedding_vector\n",
    "            hits += 1\n",
    "        else:\n",
    "            misses += 1\n",
    "    print(\"Converted %d words (%d misses)\" % (hits, misses))\n",
    "    return embedding_matrix\n",
    "\n",
    "\n",
    "def make_embedding_layer(voc: List[str], embedding_dim: int) -> layers.Embedding:\n",
    "    word_index = dict(zip(voc, range(len(voc))))\n",
    "    num_tokens = len(voc) + 2\n",
    "\n",
    "    # just testing if word_index works\n",
    "    test = [\"the\", \"cat\", \"sat\", \"on\", \"the\", \"mat\"]\n",
    "    print(\"word_index test:\")\n",
    "    print(test, \" --> \", [word_index[w] for w in test])\n",
    "\n",
    "    embedding_matrix = get_embedding_matrix(embedding_dim, num_tokens, word_index)\n",
    "\n",
    "    return layers.Embedding(\n",
    "        num_tokens,\n",
    "        embedding_dim,\n",
    "        embeddings_initializer=keras.initializers.Constant(embedding_matrix),\n",
    "        trainable=False,\n",
    "    )\n",
    "\n",
    "\n",
    "vectorizer = make_vectorizer(max_tokens=max_tokens,\n",
    "                             output_sequence_length=output_sequence_length)\n",
    "vocabulary = vectorizer.get_vocabulary()\n",
    "embedding_layer = make_embedding_layer(vocabulary, embedding_dim=embedding_dim)\n"
   ]
  },
  {
   "cell_type": "code",
   "execution_count": 23,
   "metadata": {
    "pycharm": {
     "name": "#%%\n"
    }
   },
   "outputs": [
    {
     "name": "stdout",
     "output_type": "stream",
     "text": [
      "Model: \"sequential\"\n",
      "_________________________________________________________________\n",
      "Layer (type)                 Output Shape              Param #   \n",
      "=================================================================\n",
      "keras_layer (KerasLayer)     (None, 50)                48190600  \n",
      "_________________________________________________________________\n",
      "dense_6 (Dense)              (None, 128)               6528      \n",
      "_________________________________________________________________\n",
      "dense_7 (Dense)              (None, 3)                 387       \n",
      "=================================================================\n",
      "Total params: 48,197,515\n",
      "Trainable params: 6,915\n",
      "Non-trainable params: 48,190,600\n",
      "_________________________________________________________________\n"
     ]
    },
    {
     "data": {
      "image/png": "[encoded data removed]",
      "text/plain": "<IPython.core.display.Image object>"
     },
     "execution_count": 23,
     "metadata": {},
     "output_type": "execute_result"
    }
   ],
   "source": [
    "batch_size = 128\n",
    "embed_model=\"https://tfhub.dev/google/nnlm-en-dim50/2\"\n",
    "embedding_dim = 128\n",
    "activation = 'relu'\n",
    "kernel_initializer = 'he_normal'\n",
    "l2_lambda = 1e-3\n",
    "dropout=0.5\n",
    "filters = 64\n",
    "kernel_sizes = [1, 2, 3]\n",
    "n_convs_parallel = len(kernel_sizes)\n",
    "padding='same'\n",
    "pool_size = 2\n",
    "strides = 1\n",
    "epochs = 200\n",
    "optimizer = 'nadam'\n",
    "\n",
    "def make_model():\n",
    "    regularizers = keras.regularizers.l2(l2=l2_lambda)\n",
    "    model = keras.Sequential([\n",
    "        hub.KerasLayer(embed_model, dtype=tf.string, input_shape=[],),\n",
    "        keras.layers.Dense(128, activation=activation, kernel_initializer=kernel_initializer, kernel_regularizer=regularizers),\n",
    "        keras.layers.Dense(len(class_names), activation=\"softmax\")\n",
    "    ])\n",
    "    model.summary()\n",
    "\n",
    "    model.compile(\n",
    "        loss=\"sparse_categorical_crossentropy\", optimizer=optimizer, metrics=[\"acc\"]\n",
    "    )\n",
    "    return model\n",
    "# model.compile(\n",
    "#     loss=\"sparse_categorical_crossentropy\", optimizer=optimizer, metrics=[\"acc\"]\n",
    "# )\n",
    "#     return model\n",
    "model = make_model()\n",
    "keras.utils.plot_model(model, \"model-embeddings.png\", show_shapes=True,show_layer_names=False)\n"
   ]
  },
  {
   "cell_type": "code",
   "execution_count": 24,
   "metadata": {
    "pycharm": {
     "name": "#%%\n"
    }
   },
   "outputs": [],
   "source": [
    "# model = make_model()\n",
    "# keras.utils.plot_model(model, \"model-rnn.png\", show_shapes=True)\n",
    "# experiment.log_asset(\"model-rnn.png\")\n",
    "\n",
    "# project_name = 'nlp_embeddings_rnn'\n",
    "# experiment = Experiment(\n",
    "#     project_name=project_name,\n",
    "#     auto_param_logging=True,\n",
    "#     # auto_histogram_weight_logging=True,\n",
    "#     auto_histogram_gradient_logging=True,\n",
    "#     auto_histogram_activation_logging=True,\n",
    "#     api_key=\"HeH9EtfDC2KUlCOjeQaU1CuOM\",\n",
    "#     workspace=\"henrystoll\",\n",
    "#     disabled=False,\n",
    "# )\n",
    "# params = {\n",
    "#     'batch_size': batch_size,\n",
    "#     'max_tokens': max_tokens,\n",
    "#     'output_sequence_length': output_sequence_length,\n",
    "#     'embedding_dim': embedding_dim,\n",
    "#     'units': units,\n",
    "#     'rnn': rnn,\n",
    "#     # 'activation': activation,\n",
    "#     # 'kernel_initializer': kernel_initializer,\n",
    "#     # 'l2_lambda': l2_lambda,\n",
    "#     'dropout': dropout,\n",
    "#     'recurrent_dropout': recurrent_dropout,\n",
    "#     'class_weight': class_weight,\n",
    "#     'optimizer': optimizer,\n",
    "#     'epochs': epochs,\n",
    "# }\n",
    "\n",
    "# experiment.log_parameters(params)\n",
    "\n",
    "# model = make_model()\n",
    "# keras.utils.plot_model(model, \"model-rnn.png\", show_shapes=True)\n",
    "# experiment.log_asset(\"model-rnn.png\")\n",
    "\n",
    "# early_stopping = tf.keras.callbacks.EarlyStopping(\n",
    "#     monitor='val_acc',\n",
    "#     patience=10,\n",
    "#     verbose=1,\n",
    "#     restore_best_weights=True)\n",
    "\n",
    "# with experiment.train():\n",
    "#     history = model.fit(X_train, y_train,\n",
    "#                         batch_size=batch_size,\n",
    "#                         epochs=epochs,\n",
    "#                         validation_data=(X_val, y_val),\n",
    "#                         # class_weight=class_weight,\n",
    "#                         verbose=1,\n",
    "#                         callbacks=[early_stopping])\n",
    "\n",
    "# with experiment.test():\n",
    "#     loss, accuracy = model.evaluate(X_test, y_test)\n",
    "#     print(loss, accuracy)\n",
    "#     metrics = {\n",
    "#         'loss': loss,\n",
    "#         'accuracy': accuracy\n",
    "#     }\n",
    "#     experiment.log_metrics(metrics)\n",
    "\n",
    "# y_predicted = model.predict(X_test)\n",
    "# y_predicted = y_predicted.argmax(axis=1)\n",
    "# experiment.log_confusion_matrix(y_test.to_numpy(), y_predicted)\n",
    "\n",
    "# experiment.end()"
   ]
  }
 ],
 "metadata": {
  "kernelspec": {
   "display_name": "Python 3",
   "language": "python",
   "name": "python3"
  },
  "language_info": {
   "codemirror_mode": {
    "name": "ipython",
    "version": 3
   },
   "file_extension": ".py",
   "mimetype": "text/x-python",
   "name": "python",
   "nbconvert_exporter": "python",
   "pygments_lexer": "ipython3",
   "version": "3.7.10"
  }
 },
 "nbformat": 4,
 "nbformat_minor": 1
}