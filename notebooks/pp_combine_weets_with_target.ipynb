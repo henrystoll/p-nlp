{
 "cells": [
  {
   "cell_type": "code",
   "execution_count": 18,
   "metadata": {
    "collapsed": true
   },
   "outputs": [
    {
     "name": "stdout",
     "output_type": "stream",
     "text": [
      "      username                                               text\n",
      "index                                                            \n",
      "0           3m  @ryaninmpls Sorry to hear of the difficulty! P...\n",
      "1           3m  3M's #StateOfScience Index found that 87% of p...\n",
      "  Ticker         username                           Name     Industry  \\\n",
      "0    MMM               3m               3M Company (MMM)  Industrials   \n",
      "1    AOS  aosmithhotwater  A. O. Smith Corporation (AOS)  Industrials   \n",
      "\n",
      "   Total ESG Risk Score  Environment Risk Score  Social Risk Score  \\\n",
      "0                    34                    12.6               12.6   \n",
      "1                    32                     9.5               14.9   \n",
      "\n",
      "   Governance Risk Score    user_id  \n",
      "0                    8.4  378197959  \n",
      "1                    7.6   50405635  \n"
     ]
    }
   ],
   "source": [
    "import pandas as pd\n",
    "\n",
    "df_tweets = pd.read_parquet('0-324.parquet.gzip')\n",
    "df_esg = pd.read_csv('esg_twitter.csv')\n",
    "\n",
    "df_tweets = df_tweets.drop('user_id', axis=1)\n",
    "print(df_tweets.head(2))\n",
    "print(df_esg.head(2))"
   ]
  },
  {
   "cell_type": "code",
   "execution_count": 34,
   "outputs": [],
   "source": [
    "df_company = df_tweets.groupby(['username'])['text'].apply('|||'.join).reset_index()"
   ],
   "metadata": {
    "collapsed": false,
    "pycharm": {
     "name": "#%%\n"
    }
   }
  },
  {
   "cell_type": "code",
   "execution_count": 50,
   "outputs": [
    {
     "data": {
      "text/plain": "        username                                               text Ticker  \\\n0             3m  @ryaninmpls Sorry to hear of the difficulty! P...    MMM   \n1     abbottnews  @Serilumm Hi Zach, thanks for your note. Pleas...    ABT   \n2         abbvie  This weekend, we’re sharing our latest researc...   ABBV   \n3      accenture  ✨New podcast alert!✨ Introducing #BuiltForChan...    ACN   \n4       adi_news  This #AnalogDialogue article builds on the gen...    ADI   \n..           ...                                                ...    ...   \n295     smuckers  @jeremygsmith1 Thanks for reaching out. If you...    SJM   \n296     spglobal  From @SPGlobalPlatts: Do fundamentals support ...   SPGI   \n297   theaescorp  Free market consumers are more likely to focus...    AES   \n298  thehartford  The Hartford’s proud 210-year history of suppo...    HIG   \n299     weareoxy  2020 was the busiest #HurricaneSeason in histo...    OXY   \n\n                                                  Name  \\\n0                                     3M Company (MMM)   \n1                            Abbott Laboratories (ABT)   \n2                                   AbbVie Inc. (ABBV)   \n3                                  Accenture plc (ACN)   \n4                           Analog Devices, Inc. (ADI)   \n..                                                 ...   \n295                    The J. M. Smucker Company (SJM)   \n296                             S&P Global Inc. (SPGI)   \n297                          The AES Corporation (AES)   \n298  The Hartford Financial Services Group, Inc. (HIG)   \n299             Occidental Petroleum Corporation (OXY)   \n\n                   Industry  Total ESG Risk Score  Environment Risk Score  \\\n0               Industrials                    34                    12.6   \n1               Health Care                    31                     3.7   \n2               Health Care                    30                     1.0   \n3    Information Technology                    15                     1.0   \n4    Information Technology                    26                    11.0   \n..                      ...                   ...                     ...   \n295        Consumer Staples                    27                    11.0   \n296              Financials                    14                     1.0   \n297               Utilities                    34                    19.2   \n298              Financials                    21                     1.0   \n299                  Energy                    43                    23.0   \n\n     Social Risk Score  Governance Risk Score     user_id  \n0                 12.6                    8.4   378197959  \n1                 15.9                   11.6   360054369  \n2                 16.5                   12.8   531892451  \n3                  8.2                    6.3    10194682  \n4                  8.0                    8.0    37722624  \n..                 ...                    ...         ...  \n295               10.0                    6.0   314824715  \n296                6.0                    6.0   110522065  \n297                8.6                    5.9  2541746143  \n298                9.0                   10.0    19614674  \n299               12.0                    8.0    42641711  \n\n[300 rows x 10 columns]",
      "text/html": "<div>\n<style scoped>\n    .dataframe tbody tr th:only-of-type {\n        vertical-align: middle;\n    }\n\n    .dataframe tbody tr th {\n        vertical-align: top;\n    }\n\n    .dataframe thead th {\n        text-align: right;\n    }\n</style>\n<table border=\"1\" class=\"dataframe\">\n  <thead>\n    <tr style=\"text-align: right;\">\n      <th></th>\n      <th>username</th>\n      <th>text</th>\n      <th>Ticker</th>\n      <th>Name</th>\n      <th>Industry</th>\n      <th>Total ESG Risk Score</th>\n      <th>Environment Risk Score</th>\n      <th>Social Risk Score</th>\n      <th>Governance Risk Score</th>\n      <th>user_id</th>\n    </tr>\n  </thead>\n  <tbody>\n    <tr>\n      <th>0</th>\n      <td>3m</td>\n      <td>@ryaninmpls Sorry to hear of the difficulty! P...</td>\n      <td>MMM</td>\n      <td>3M Company (MMM)</td>\n      <td>Industrials</td>\n      <td>34</td>\n      <td>12.6</td>\n      <td>12.6</td>\n      <td>8.4</td>\n      <td>378197959</td>\n    </tr>\n    <tr>\n      <th>1</th>\n      <td>abbottnews</td>\n      <td>@Serilumm Hi Zach, thanks for your note. Pleas...</td>\n      <td>ABT</td>\n      <td>Abbott Laboratories (ABT)</td>\n      <td>Health Care</td>\n      <td>31</td>\n      <td>3.7</td>\n      <td>15.9</td>\n      <td>11.6</td>\n      <td>360054369</td>\n    </tr>\n    <tr>\n      <th>2</th>\n      <td>abbvie</td>\n      <td>This weekend, we’re sharing our latest researc...</td>\n      <td>ABBV</td>\n      <td>AbbVie Inc. (ABBV)</td>\n      <td>Health Care</td>\n      <td>30</td>\n      <td>1.0</td>\n      <td>16.5</td>\n      <td>12.8</td>\n      <td>531892451</td>\n    </tr>\n    <tr>\n      <th>3</th>\n      <td>accenture</td>\n      <td>✨New podcast alert!✨ Introducing #BuiltForChan...</td>\n      <td>ACN</td>\n      <td>Accenture plc (ACN)</td>\n      <td>Information Technology</td>\n      <td>15</td>\n      <td>1.0</td>\n      <td>8.2</td>\n      <td>6.3</td>\n      <td>10194682</td>\n    </tr>\n    <tr>\n      <th>4</th>\n      <td>adi_news</td>\n      <td>This #AnalogDialogue article builds on the gen...</td>\n      <td>ADI</td>\n      <td>Analog Devices, Inc. (ADI)</td>\n      <td>Information Technology</td>\n      <td>26</td>\n      <td>11.0</td>\n      <td>8.0</td>\n      <td>8.0</td>\n      <td>37722624</td>\n    </tr>\n    <tr>\n      <th>...</th>\n      <td>...</td>\n      <td>...</td>\n      <td>...</td>\n      <td>...</td>\n      <td>...</td>\n      <td>...</td>\n      <td>...</td>\n      <td>...</td>\n      <td>...</td>\n      <td>...</td>\n    </tr>\n    <tr>\n      <th>295</th>\n      <td>smuckers</td>\n      <td>@jeremygsmith1 Thanks for reaching out. If you...</td>\n      <td>SJM</td>\n      <td>The J. M. Smucker Company (SJM)</td>\n      <td>Consumer Staples</td>\n      <td>27</td>\n      <td>11.0</td>\n      <td>10.0</td>\n      <td>6.0</td>\n      <td>314824715</td>\n    </tr>\n    <tr>\n      <th>296</th>\n      <td>spglobal</td>\n      <td>From @SPGlobalPlatts: Do fundamentals support ...</td>\n      <td>SPGI</td>\n      <td>S&amp;P Global Inc. (SPGI)</td>\n      <td>Financials</td>\n      <td>14</td>\n      <td>1.0</td>\n      <td>6.0</td>\n      <td>6.0</td>\n      <td>110522065</td>\n    </tr>\n    <tr>\n      <th>297</th>\n      <td>theaescorp</td>\n      <td>Free market consumers are more likely to focus...</td>\n      <td>AES</td>\n      <td>The AES Corporation (AES)</td>\n      <td>Utilities</td>\n      <td>34</td>\n      <td>19.2</td>\n      <td>8.6</td>\n      <td>5.9</td>\n      <td>2541746143</td>\n    </tr>\n    <tr>\n      <th>298</th>\n      <td>thehartford</td>\n      <td>The Hartford’s proud 210-year history of suppo...</td>\n      <td>HIG</td>\n      <td>The Hartford Financial Services Group, Inc. (HIG)</td>\n      <td>Financials</td>\n      <td>21</td>\n      <td>1.0</td>\n      <td>9.0</td>\n      <td>10.0</td>\n      <td>19614674</td>\n    </tr>\n    <tr>\n      <th>299</th>\n      <td>weareoxy</td>\n      <td>2020 was the busiest #HurricaneSeason in histo...</td>\n      <td>OXY</td>\n      <td>Occidental Petroleum Corporation (OXY)</td>\n      <td>Energy</td>\n      <td>43</td>\n      <td>23.0</td>\n      <td>12.0</td>\n      <td>8.0</td>\n      <td>42641711</td>\n    </tr>\n  </tbody>\n</table>\n<p>300 rows × 10 columns</p>\n</div>"
     },
     "execution_count": 50,
     "metadata": {},
     "output_type": "execute_result"
    }
   ],
   "source": [
    "df_company = df_company.merge(df_esg, on='username')\n",
    "df_company\n"
   ],
   "metadata": {
    "collapsed": false,
    "pycharm": {
     "name": "#%%\n"
    }
   }
  },
  {
   "cell_type": "code",
   "execution_count": 51,
   "outputs": [],
   "source": [
    "df_company.to_parquet('300_companies_tweets.parquet.gzip', compression='gzip')\n",
    "\n"
   ],
   "metadata": {
    "collapsed": false,
    "pycharm": {
     "name": "#%%\n"
    }
   }
  }
 ],
 "metadata": {
  "kernelspec": {
   "display_name": "Python 3",
   "language": "python",
   "name": "python3"
  },
  "language_info": {
   "codemirror_mode": {
    "name": "ipython",
    "version": 2
   },
   "file_extension": ".py",
   "mimetype": "text/x-python",
   "name": "python",
   "nbconvert_exporter": "python",
   "pygments_lexer": "ipython2",
   "version": "2.7.6"
  }
 },
 "nbformat": 4,
 "nbformat_minor": 0
}