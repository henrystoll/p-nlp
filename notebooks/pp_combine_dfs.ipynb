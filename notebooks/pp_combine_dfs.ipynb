{
 "cells": [
  {
   "cell_type": "code",
   "execution_count": 17,
   "metadata": {
    "collapsed": true,
    "pycharm": {
     "name": "#%%\n"
    }
   },
   "outputs": [
    {
     "name": "stderr",
     "output_type": "stream",
     "text": [
      "/Users/henrystoll/SDK/anaconda3/envs/p-nlp/lib/python3.9/site-packages/IPython/core/interactiveshell.py:3169: DtypeWarning: Columns (0) have mixed types.Specify dtype option on import or set low_memory=False.\n",
      "  has_raised = await self.run_ast_nodes(code_ast.body, cell_name,\n"
     ]
    },
    {
     "data": {
      "text/html": [
       "<div>\n",
       "<style scoped>\n",
       "    .dataframe tbody tr th:only-of-type {\n",
       "        vertical-align: middle;\n",
       "    }\n",
       "\n",
       "    .dataframe tbody tr th {\n",
       "        vertical-align: top;\n",
       "    }\n",
       "\n",
       "    .dataframe thead th {\n",
       "        text-align: right;\n",
       "    }\n",
       "</style>\n",
       "<table border=\"1\" class=\"dataframe\">\n",
       "  <thead>\n",
       "    <tr style=\"text-align: right;\">\n",
       "      <th></th>\n",
       "      <th>username</th>\n",
       "      <th>user_id</th>\n",
       "      <th>text</th>\n",
       "    </tr>\n",
       "  </thead>\n",
       "  <tbody>\n",
       "    <tr>\n",
       "      <th>0</th>\n",
       "      <td>3m</td>\n",
       "      <td>378197959.0</td>\n",
       "      <td>@ryaninmpls Sorry to hear of the difficulty! P...</td>\n",
       "    </tr>\n",
       "    <tr>\n",
       "      <th>1</th>\n",
       "      <td>3m</td>\n",
       "      <td>378197959.0</td>\n",
       "      <td>3M's #StateOfScience Index found that 87% of p...</td>\n",
       "    </tr>\n",
       "    <tr>\n",
       "      <th>2</th>\n",
       "      <td>3m</td>\n",
       "      <td>378197959.0</td>\n",
       "      <td>@dustinalexander Hi Dustin, thanks for your fe...</td>\n",
       "    </tr>\n",
       "    <tr>\n",
       "      <th>3</th>\n",
       "      <td>3m</td>\n",
       "      <td>378197959.0</td>\n",
       "      <td>@Mohan56925135 Hello - Thank you for reaching ...</td>\n",
       "    </tr>\n",
       "    <tr>\n",
       "      <th>4</th>\n",
       "      <td>3m</td>\n",
       "      <td>378197959.0</td>\n",
       "      <td>The world is safer and healthier when people t...</td>\n",
       "    </tr>\n",
       "    <tr>\n",
       "      <th>...</th>\n",
       "      <td>...</td>\n",
       "      <td>...</td>\n",
       "      <td>...</td>\n",
       "    </tr>\n",
       "    <tr>\n",
       "      <th>85223</th>\n",
       "      <td>sempraenergy</td>\n",
       "      <td>20637451.0</td>\n",
       "      <td>RT @SDGE: ICYMI - @sdut recently profiled the ...</td>\n",
       "    </tr>\n",
       "    <tr>\n",
       "      <th>85224</th>\n",
       "      <td>sempraenergy</td>\n",
       "      <td>20637451.0</td>\n",
       "      <td>RT @SoCalGasNews: Jimmie I. Cho has been named...</td>\n",
       "    </tr>\n",
       "    <tr>\n",
       "      <th>85225</th>\n",
       "      <td>sempraenergy</td>\n",
       "      <td>20637451.0</td>\n",
       "      <td>RT @SDGE: The winter chill we are experiencing...</td>\n",
       "    </tr>\n",
       "    <tr>\n",
       "      <th>85226</th>\n",
       "      <td>sempraenergy</td>\n",
       "      <td>20637451.0</td>\n",
       "      <td>RT @SempraLNGM: Sempra Energy Subsidiary has e...</td>\n",
       "    </tr>\n",
       "    <tr>\n",
       "      <th>85227</th>\n",
       "      <td>sempraenergy</td>\n",
       "      <td>20637451.0</td>\n",
       "      <td>Happy New Year from all of us at Sempra Energy...</td>\n",
       "    </tr>\n",
       "  </tbody>\n",
       "</table>\n",
       "<p>489245 rows × 3 columns</p>\n",
       "</div>"
      ],
      "text/plain": [
       "           username      user_id  \\\n",
       "0                3m  378197959.0   \n",
       "1                3m  378197959.0   \n",
       "2                3m  378197959.0   \n",
       "3                3m  378197959.0   \n",
       "4                3m  378197959.0   \n",
       "...             ...          ...   \n",
       "85223  sempraenergy   20637451.0   \n",
       "85224  sempraenergy   20637451.0   \n",
       "85225  sempraenergy   20637451.0   \n",
       "85226  sempraenergy   20637451.0   \n",
       "85227  sempraenergy   20637451.0   \n",
       "\n",
       "                                                    text  \n",
       "0      @ryaninmpls Sorry to hear of the difficulty! P...  \n",
       "1      3M's #StateOfScience Index found that 87% of p...  \n",
       "2      @dustinalexander Hi Dustin, thanks for your fe...  \n",
       "3      @Mohan56925135 Hello - Thank you for reaching ...  \n",
       "4      The world is safer and healthier when people t...  \n",
       "...                                                  ...  \n",
       "85223  RT @SDGE: ICYMI - @sdut recently profiled the ...  \n",
       "85224  RT @SoCalGasNews: Jimmie I. Cho has been named...  \n",
       "85225  RT @SDGE: The winter chill we are experiencing...  \n",
       "85226  RT @SempraLNGM: Sempra Energy Subsidiary has e...  \n",
       "85227  Happy New Year from all of us at Sempra Energy...  \n",
       "\n",
       "[489245 rows x 3 columns]"
      ]
     },
     "execution_count": 17,
     "metadata": {},
     "output_type": "execute_result"
    }
   ],
   "source": [
    "import pandas as pd\n",
    "\n",
    "df1 = pd.read_csv('0-18.csv')\n",
    "df2 = pd.read_csv('19-258.csv')\n",
    "df3 = pd.read_csv('260-324.csv')\n",
    "\n",
    "df = df1.append(df2)\n",
    "df = df.append(df3)\n",
    "df = df.drop('Unnamed: 0', axis=1)\n",
    "df"
   ]
  },
  {
   "cell_type": "code",
   "execution_count": 18,
   "metadata": {
    "pycharm": {
     "name": "#%%\n"
    }
   },
   "outputs": [],
   "source": [
    "df.to_parquet('0-324.parquet.gzip', compression='gzip')"
   ]
  }
 ],
 "metadata": {
  "kernelspec": {
   "display_name": "Python 3",
   "language": "python",
   "name": "python3"
  },
  "language_info": {
   "codemirror_mode": {
    "name": "ipython",
    "version": 3
   },
   "file_extension": ".py",
   "mimetype": "text/x-python",
   "name": "python",
   "nbconvert_exporter": "python",
   "pygments_lexer": "ipython3",
   "version": "3.8.3"
  }
 },
 "nbformat": 4,
 "nbformat_minor": 1
}