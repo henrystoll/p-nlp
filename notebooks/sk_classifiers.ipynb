{
 "cells": [
  {
   "cell_type": "markdown",
   "source": [
    "# Testing out different Classifiers\n",
    "\n",
    "    1. Random Forest\n",
    "    2. XGBoost\n",
    "    3. SVM\n",
    "    4. Multinomial Naïve Bayes\n"
   ],
   "metadata": {
    "collapsed": false,
    "pycharm": {
     "name": "#%% md\n"
    }
   }
  },
  {
   "cell_type": "code",
   "execution_count": 1,
   "metadata": {
    "collapsed": true
   },
   "outputs": [],
   "source": [
    "\n",
    "import pandas as pd\n",
    "import seaborn as sns\n",
    "from comet_ml import Experiment\n",
    "from sklearn.ensemble import RandomForestClassifier\n",
    "from sklearn.feature_extraction.text import TfidfVectorizer, CountVectorizer\n",
    "from sklearn.linear_model import LogisticRegression\n",
    "from sklearn.metrics import classification_report\n",
    "from sklearn.model_selection import train_test_split, GridSearchCV\n",
    "from sklearn.naive_bayes import MultinomialNB\n",
    "from sklearn.pipeline import Pipeline\n",
    "from sklearn.svm import LinearSVC\n",
    "from xgboost import XGBRegressor, XGBClassifier"
   ]
  },
  {
   "cell_type": "code",
   "execution_count": 2,
   "outputs": [],
   "source": [
    "df = pd.read_csv('../data/tweets_50.csv')\n",
    "X = df['text_tokenized']\n",
    "y = df['label']\n",
    "X_train, X_test, y_train, y_test = train_test_split(X, y, test_size=0.2, random_state=0)"
   ],
   "metadata": {
    "collapsed": false,
    "pycharm": {
     "name": "#%%\n"
    }
   }
  },
  {
   "cell_type": "code",
   "execution_count": null,
   "outputs": [
    {
     "name": "stdout",
     "output_type": "stream",
     "text": [
      "Fitting 5 folds for each of 6 candidates, totalling 30 fits\n"
     ]
    }
   ],
   "source": [
    "pipe = Pipeline([\n",
    "    ('vect', TfidfVectorizer(strip_accents='ascii', max_features=30_000, stop_words='english')),\n",
    "    ('model', RandomForestClassifier())\n",
    "])\n",
    "\n",
    "search_grid = {\n",
    "    'model': [\n",
    "            RandomForestClassifier(),\n",
    "            XGBClassifier(),\n",
    "            MultinomialNB(),\n",
    "            LogisticRegression(multi_class='multinomial', solver='newton-cg'),\n",
    "            LinearSVC(),\n",
    "            LogisticRegression(),\n",
    "    ]\n",
    "}\n",
    "\n",
    "grid = GridSearchCV(pipe, search_grid, n_jobs=6, verbose=2, cv=5,\n",
    "                    scoring='accuracy')\n",
    "\n",
    "grid.fit(X_train, y_train)\n",
    "results_cv = pd.DataFrame(grid.cv_results_)"
   ],
   "metadata": {
    "collapsed": false,
    "pycharm": {
     "name": "#%%\n",
     "is_executing": true
    }
   }
  },
  {
   "cell_type": "code",
   "execution_count": null,
   "outputs": [],
   "source": [
    "# print(results_cv.columns)\n",
    "results_cv.to_csv('../models/sk_clf_vect_guess')\n",
    "\n",
    "for i, row in results_cv.iterrows():\n",
    "    exp = Experiment(workspace=\"henrystoll\",\n",
    "                     project_name=\"nlp-token-sklearn-clf\",\n",
    "                     api_key=\"HeH9EtfDC2KUlCOjeQaU1CuOM\",)\n",
    "    for k, v in row.items():\n",
    "        if k.startswith('mean_') or k.startswith('std_'):\n",
    "            exp.log_metric(k, v)\n",
    "        elif k.startswith('param_'):\n",
    "            exp.log_parameter(k, v)\n",
    "    exp.end()\n"
   ],
   "metadata": {
    "collapsed": false,
    "pycharm": {
     "name": "#%%\n",
     "is_executing": true
    }
   }
  },
  {
   "cell_type": "code",
   "execution_count": null,
   "outputs": [],
   "source": [
    "y_pred = grid.predict(X_test)\n",
    "\n",
    "print(classification_report(y_test, y_pred))\n",
    "results_cv[['mean_fit_time', 'params', 'mean_test_score']]"
   ],
   "metadata": {
    "collapsed": false,
    "pycharm": {
     "name": "#%%\n",
     "is_executing": true
    }
   }
  }
 ],
 "metadata": {
  "kernelspec": {
   "display_name": "Python 3",
   "language": "python",
   "name": "python3"
  },
  "language_info": {
   "codemirror_mode": {
    "name": "ipython",
    "version": 2
   },
   "file_extension": ".py",
   "mimetype": "text/x-python",
   "name": "python",
   "nbconvert_exporter": "python",
   "pygments_lexer": "ipython2",
   "version": "2.7.6"
  }
 },
 "nbformat": 4,
 "nbformat_minor": 0
}