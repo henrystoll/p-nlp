{
 "cells": [
  {
   "cell_type": "code",
   "execution_count": 50,
   "metadata": {
    "collapsed": true
   },
   "outputs": [
    {
     "data": {
      "text/plain": "   Unnamed: 0 Ticker username              Name     Industry  \\\n0           0    MMM       3m  3M Company (MMM)  Industrials   \n\n   Total ESG Risk Score  Environment Risk Score  Social Risk Score  \\\n0                    34                    12.6               12.6   \n\n   Governance Risk Score    user_id  \n0                    8.4  378197959  ",
      "text/html": "<div>\n<style scoped>\n    .dataframe tbody tr th:only-of-type {\n        vertical-align: middle;\n    }\n\n    .dataframe tbody tr th {\n        vertical-align: top;\n    }\n\n    .dataframe thead th {\n        text-align: right;\n    }\n</style>\n<table border=\"1\" class=\"dataframe\">\n  <thead>\n    <tr style=\"text-align: right;\">\n      <th></th>\n      <th>Unnamed: 0</th>\n      <th>Ticker</th>\n      <th>username</th>\n      <th>Name</th>\n      <th>Industry</th>\n      <th>Total ESG Risk Score</th>\n      <th>Environment Risk Score</th>\n      <th>Social Risk Score</th>\n      <th>Governance Risk Score</th>\n      <th>user_id</th>\n    </tr>\n  </thead>\n  <tbody>\n    <tr>\n      <th>0</th>\n      <td>0</td>\n      <td>MMM</td>\n      <td>3m</td>\n      <td>3M Company (MMM)</td>\n      <td>Industrials</td>\n      <td>34</td>\n      <td>12.6</td>\n      <td>12.6</td>\n      <td>8.4</td>\n      <td>378197959</td>\n    </tr>\n  </tbody>\n</table>\n</div>"
     },
     "execution_count": 50,
     "metadata": {},
     "output_type": "execute_result"
    }
   ],
   "source": [
    "import pandas as pd\n",
    "import yaml\n",
    "from pytwitter import Api\n",
    "\n",
    "\n",
    "def process_yaml():\n",
    "    with open(\"config.yaml\") as file:\n",
    "        return yaml.safe_load(file)\n",
    "\n",
    "config = process_yaml()\n",
    "api = Api(bearer_token=config['twitter_api_v2']['bearer_token'], sleep_on_rate_limit=True)\n",
    "\n",
    "df =  pd.read_csv('esg_twitter.csv')\n",
    "df.head(1)"
   ]
  },
  {
   "cell_type": "code",
   "execution_count": 60,
   "outputs": [
    {
     "name": "stdout",
     "output_type": "stream",
     "text": [
      "18639734 nasdaq 3250\n",
      "2588219916 novglobal 404\n",
      "15897465 netapp 3139\n",
      "121580581 newell_brands 319\n",
      "437789543 newmontcorp 1158\n",
      "1516521758 newscorp 58\n",
      "94190179 nexteraenergy 82\n",
      "ERROR no tweets? 267 nielsenir 859654890\n",
      "415859364 nike 1881\n",
      "2329361226 nisourceinc 169\n",
      "66472414 nscorp 891\n",
      "308506248 northerntrust 857\n",
      "1173980018009001984 nortonlifelock 554\n",
      "17045115 cruisenorwegian 3248\n",
      "32880255 nrgenergy 424\n",
      "ERROR no tweets? 275 nucorcorp 361259570\n",
      "61559439 nvidia 1032\n",
      "32516857 oreillyauto 558\n",
      "42641711 weareoxy 290\n",
      "64834590 oneok 51\n",
      "809273 oracle 3246\n",
      "2645632766 packagingcorp 856\n",
      "112423234 parkerhannifin 3054\n",
      "39750799 paychex 2884\n",
      "30018058 paypal 1165\n",
      "3070701243 pentair 550\n",
      "209116528 peoplesunited 1712\n",
      "21346619 pepsico 2063\n",
      "ERROR no tweets? 288 perkinelmer 128564900\n",
      "1430592241 perrigocompany 484\n",
      "56488059 pfizer 1973\n",
      "914311278 insidepmi 3249\n",
      "405085229 phillips66co 564\n",
      "979244048 pxdtweets 77\n",
      "40059448 pncbank 1204\n",
      "164365554 principal 1127\n",
      "3331681 progressive 1902\n",
      "108336372 prologis 858\n",
      "1194947442 prudential 557\n",
      "234823795 psegnews 2554\n",
      "25362591 publicstorage 3237\n",
      "1615802550 pultegroupnews 360\n",
      "996012569117806595 pvhcorp 689\n",
      "2792823936 qorvoinc 740\n",
      "84623395 qualcomm 3248\n",
      "2478412250 quanta_services 190\n",
      "34395888 ralphlauren 1242\n",
      "17981602 raymondjames 2119\n",
      "475255646 realtyincome 88\n",
      "105159738 regencycenters 280\n",
      "23077762 regeneron 1073\n",
      "1726561729 regionsnews 3235\n",
      "522734100 resmed 1125\n",
      "16637298 roberthalf 2328\n",
      "44627268 rokautomation 2528\n",
      "ERROR no tweets? 315 industriesroper 2449921728\n",
      "ERROR no tweets? 316 ross_stores 4261659374\n",
      "36144455 royalcaribbean 3250\n",
      "110522065 spglobal 3250\n",
      "33612317 salesforce 3250\n",
      "ERROR no tweets? 320 schlumberger 121609872\n",
      "14762127 seagate 3081\n",
      "59841697 sealed_air 452\n",
      "20637451 sempraenergy 1018\n",
      "ERROR no tweets? 324 servicenow 15766070\n",
      "ERROR no tweets? 325 sherwinwilliams 111372861\n",
      "ERROR no tweets? 326 skyworksinc 50125539\n",
      "ERROR no tweets? 327 slgreen 607778163\n",
      "ERROR no tweets? 328 snapon_tools 18892107\n",
      "ERROR no tweets? 329 southerncompany 15864671\n",
      "ERROR no tweets? 330 southwestair 7212562\n",
      "ERROR no tweets? 331 stanleyblkdeckr 117789943\n",
      "ERROR no tweets? 332 starbucks 30973\n",
      "ERROR no tweets? 333 statestreet 331877987\n",
      "ERROR no tweets? 334 strykercomm 709833640583294977\n",
      "ERROR no tweets? 335 synopsys 17427993\n",
      "ERROR no tweets? 336 sysco 823523768\n"
     ]
    }
   ],
   "source": [
    "# https://pypi.org/project/python-twitter-v2/\n",
    "\n",
    "tweets_df = pd.DataFrame(columns=['username', 'user_id', 'text'])\n",
    "for index, username, user_id in df[['username', 'user_id']][260:].itertuples():\n",
    "    try:\n",
    "        tweets = []\n",
    "        next_token = None\n",
    "        while next_token or len(tweets) == 0:\n",
    "            res = api.get_timelines(user_id=user_id,\n",
    "                                    max_results=100,\n",
    "                                    pagination_token=next_token,\n",
    "                                    start_time='2019-01-01T00:00:00Z')\n",
    "            tweets.extend(res.data)\n",
    "            next_token = res.meta.next_token\n",
    "\n",
    "        print(user_id, username, len(tweets))\n",
    "        texts = [{'username': username, 'user_id': user_id, 'text': tweet.text} for tweet in tweets]\n",
    "        tweets_df = tweets_df.append(texts, ignore_index=True, sort=False)\n",
    "        tweets_df.to_csv('260-.csv')\n",
    "    except:\n",
    "        print(\"ERROR no tweets?\",index, username, user_id)"
   ],
   "metadata": {
    "collapsed": false,
    "pycharm": {
     "name": "#%%\n"
    }
   }
  },
  {
   "cell_type": "code",
   "execution_count": 55,
   "outputs": [],
   "source": [
    "# tweets_df.to_csv('258.csv')"
   ],
   "metadata": {
    "collapsed": false,
    "pycharm": {
     "name": "#%%\n"
    }
   }
  }
 ],
 "metadata": {
  "kernelspec": {
   "display_name": "Python 3",
   "language": "python",
   "name": "python3"
  },
  "language_info": {
   "codemirror_mode": {
    "name": "ipython",
    "version": 2
   },
   "file_extension": ".py",
   "mimetype": "text/x-python",
   "name": "python",
   "nbconvert_exporter": "python",
   "pygments_lexer": "ipython2",
   "version": "2.7.6"
  }
 },
 "nbformat": 4,
 "nbformat_minor": 0
}