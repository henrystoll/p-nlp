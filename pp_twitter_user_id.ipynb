{
 "cells": [
  {
   "cell_type": "code",
   "execution_count": 30,
   "metadata": {
    "collapsed": true,
    "pycharm": {
     "name": "#%%\n"
    }
   },
   "outputs": [
    {
     "data": {
      "text/plain": "  Ticker         username                           Name     Industry  \\\n0    MMM               3m               3M Company (MMM)  Industrials   \n1    AOS  aosmithhotwater  A. O. Smith Corporation (AOS)  Industrials   \n2    ABT       abbottnews      Abbott Laboratories (ABT)  Health Care   \n\n   Total ESG Risk Score  Environment Risk Score  Social Risk Score  \\\n0                    34                    12.6               12.6   \n1                    32                     9.5               14.9   \n2                    31                     3.7               15.9   \n\n   Governance Risk Score  \n0                    8.4  \n1                    7.6  \n2                   11.6  ",
      "text/html": "<div>\n<style scoped>\n    .dataframe tbody tr th:only-of-type {\n        vertical-align: middle;\n    }\n\n    .dataframe tbody tr th {\n        vertical-align: top;\n    }\n\n    .dataframe thead th {\n        text-align: right;\n    }\n</style>\n<table border=\"1\" class=\"dataframe\">\n  <thead>\n    <tr style=\"text-align: right;\">\n      <th></th>\n      <th>Ticker</th>\n      <th>username</th>\n      <th>Name</th>\n      <th>Industry</th>\n      <th>Total ESG Risk Score</th>\n      <th>Environment Risk Score</th>\n      <th>Social Risk Score</th>\n      <th>Governance Risk Score</th>\n    </tr>\n  </thead>\n  <tbody>\n    <tr>\n      <th>0</th>\n      <td>MMM</td>\n      <td>3m</td>\n      <td>3M Company (MMM)</td>\n      <td>Industrials</td>\n      <td>34</td>\n      <td>12.6</td>\n      <td>12.6</td>\n      <td>8.4</td>\n    </tr>\n    <tr>\n      <th>1</th>\n      <td>AOS</td>\n      <td>aosmithhotwater</td>\n      <td>A. O. Smith Corporation (AOS)</td>\n      <td>Industrials</td>\n      <td>32</td>\n      <td>9.5</td>\n      <td>14.9</td>\n      <td>7.6</td>\n    </tr>\n    <tr>\n      <th>2</th>\n      <td>ABT</td>\n      <td>abbottnews</td>\n      <td>Abbott Laboratories (ABT)</td>\n      <td>Health Care</td>\n      <td>31</td>\n      <td>3.7</td>\n      <td>15.9</td>\n      <td>11.6</td>\n    </tr>\n  </tbody>\n</table>\n</div>"
     },
     "execution_count": 30,
     "metadata": {},
     "output_type": "execute_result"
    }
   ],
   "source": [
    "import pandas as pd\n",
    "import yaml\n",
    "from pytwitter import Api\n",
    "\n",
    "\n",
    "def process_yaml():\n",
    "    with open(\"config.yaml\") as file:\n",
    "        return yaml.safe_load(file)\n",
    "\n",
    "config = process_yaml()\n",
    "api = Api(bearer_token=config['twitter_api_v2']['bearer_token'], sleep_on_rate_limit=True)\n",
    "\n",
    "df = pd.read_csv('esg.csv')\n",
    "df.head(3)"
   ]
  },
  {
   "cell_type": "code",
   "execution_count": 31,
   "outputs": [
    {
     "name": "stdout",
     "output_type": "stream",
     "text": [
      "3m,aosmithhotwater,abbottnews,abbvie,accenture,atvi_ab,adobe,advanceauto,theaescorp,aflac,agilent,airproducts,akamai,albemarlecorp,alexionpharma,allegionplc,alliancedata,alliantenergy,allstate,alphabetlnc,altrianews,amazon,americanair,aepnews,americanexpress,aiginsurance,americantowerus,amwater,healthcare_abc,ametekinc,amgen,amphenol,adi_news,ansys,antheminc,aon_plc,aimcoapts,apple,applied4tech,aptiv,admupdates,aristanetworks,gallagherglobal,assurant,att,atmosenergy,autodesk,adp,autozone,avalonbay,averydennison,ballcorphq,bankofamerica,baxter_intl,bestbuy,biogen,boeing,bookingholdings,borgwarner,bxpboston,bostonsci,bmsnews,broadcom,broadridge,chrobinson,cabotog,cadence,campbellsoupco,capitalone,cardinalhealth,carmax,carnivalplc,caterpillarinc,cboe,celanese,centerpoint,centurylink,cerner,CFIndustries,charlesschwab,charternewsroom,chevron,chipotletweets,cigna,cintascorp,citi,cfgcommercial,ctxs,cmegroup,cocacolaco,cognizant,cp_news,comcast,conagrabrands,conchooilfield,conedison,cbrands,copart,corning,costco\n",
      "cotyinc,crowncastle,csx,cummins,drhorton,darden,davita,johndeere,delta,dentsplysirona,devonenergy,dexcom,discover,discoveryinctv,dish,dollartree,dominionenergy,dpz,dovercorp,dte_energy,dukeenergy,dukerealty,dupont_news,dxctechnology,etrade,eastmanchemco,eatoncorp,ebay,ecolab,edisonintl,edwardslifesci,ea,emerson_news,entergy,eog_news,equifax,equityres,elcompanies,everest_re,eversourcecorp,exelon,expediagroup,extraspace,exxonmobil,f5networks,facebook,fastenalcompany,federalrealty,fedex,fisglobal,fifththird,firstrepublic,fiserv,fleetcor,flowserve,fmccorp,ford,fortinet,fortivecorp,fbhs_news,foxcorp,garminnews,gartner_inc,generalelectric,generalmills,gm,genuinepartsco,gileadsciences,globalpayinc,globelife,goldmansachs,grainger,halliburton,hanesbrands,harleydavidson,thehartford,hasbro,hcahealthcare,henryschein,hesscorporation,hpe_news,hiltonhotels,hologic,hormelfoods,hosthotelsinc,hp,humana,huntington_bank,idexcorp,idexx,ihsmarkit,itwcareers,illumina,incyte,intel,ice_markets,ibm,intlpaperco,interpublicipg,iff\n",
      "intuit,invescoltd,ipgphotonics,iqvia_global,ironmountain,jbhunt360,jacobsconnects,smuckers,jnjnews,johnsoncontrols,jpmorgan,junipernetworks,kelloggcompany,keycorp,kccorp,kimcorealty,kinder_morgan,klacorp,kohlsnews,kraftheinzco,l_brands,labcorp,lamresearch,lasvegassands,leggettandplatt,leidosinc,lennar,lillypad,lincolnfingroup,lockheedmartin,lcareers,lowes,lyondellbasell,mandt_bank,marathonoil,marathonpetroco,marriottintl,martinmarietta,mascolma,mastercard,maximintegrated,mccormickcorp,mcdonaldscorp,mckesson,medtronic,merck,metlife,mettlertoledo,mgmresortsintl,microchiptech,microntech,microsoft,mhkgreenworks,molsoncoors,mdlz,monsterenergy,moodyscorp,morganstanley,motosolutions,msci_inc,mylannews,nasdaq,novglobal,netapp,newell_brands,newmontcorp,newscorp,nexteraenergy,nielsenir,nike,nisourceinc,nblenergy,nscorp,northerntrust,nortonlifelock,cruisenorwegian,nrgenergy,nucorcorp,nvidia,oreillyauto,weareoxy,oneok,oracle,packagingcorp,parkerhannifin,paychex,paypal,pentair,peoplesunited,pepsico,perkinelmer,perrigocompany,pfizer,insidepmi,phillips66co,pxdtweets,pncbank,principal,progressive,prologis\n",
      "prudential,psegnews,publicstorage,pultegroupnews,pvhcorp,qorvoinc,qualcomm,quanta_services,ralphlauren,raymondjames,realtyincome,regencycenters,regeneron,regionsnews,resmed,roberthalf,rokautomation,industriesroper,ross_stores,royalcaribbean,spglobal,salesforce,schlumberger,seagate,sealed_air,sempraenergy,servicenow,sherwinwilliams,skyworksinc,slgreen,snapon_tools,southerncompany,southwestair,stanleyblkdeckr,starbucks,statestreet,strykercomm,synopsys,sysco\n"
     ]
    }
   ],
   "source": [
    "def paginate_df(df, size=100):\n",
    "    return [df.loc[i:i+size-1,:] for i in range(0, len(df),size)]\n",
    "\n",
    "df_paginated = paginate_df(df)\n",
    "\n",
    "users = []\n",
    "for pages in df_paginated:\n",
    "    string = ','.join(pages['username'].to_list())\n",
    "    print(string)\n",
    "    res = api.get_users(usernames=string, user_fields='verified')\n",
    "    users.extend(res.data)"
   ],
   "metadata": {
    "collapsed": false,
    "pycharm": {
     "name": "#%%\n"
    }
   }
  },
  {
   "cell_type": "code",
   "execution_count": 32,
   "outputs": [],
   "source": [
    "users_dict = []\n",
    "for user in users:\n",
    "    users_dict.append({\n",
    "        'user_id': user.id,\n",
    "        'username': user.username.lower(),\n",
    "        # 'name': user.name\n",
    "    })\n",
    "\n",
    "users_df = pd.DataFrame(users_dict)\n",
    "esg_df = pd.merge(df, users_df)\n",
    "\n",
    "esg_df.to_csv('esg_twitter.csv')\n",
    "\n"
   ],
   "metadata": {
    "collapsed": false,
    "pycharm": {
     "name": "#%%\n"
    }
   }
  },
  {
   "cell_type": "code",
   "execution_count": 34,
   "outputs": [
    {
     "data": {
      "text/plain": "   Ticker         username                                     Name  \\\n0     MMM               3m                         3M Company (MMM)   \n1     AOS  aosmithhotwater            A. O. Smith Corporation (AOS)   \n2     ABT       abbottnews                Abbott Laboratories (ABT)   \n3    ABBV           abbvie                       AbbVie Inc. (ABBV)   \n4     ACN        accenture                      Accenture plc (ACN)   \n5    ATVI          atvi_ab         Activision Blizzard, Inc. (ATVI)   \n6    ADBE            adobe                        Adobe Inc. (ADBE)   \n7     AAP      advanceauto           Advance Auto Parts, Inc. (AAP)   \n8     AES       theaescorp                The AES Corporation (AES)   \n9     AFL            aflac                 Aflac Incorporated (AFL)   \n10      A          agilent           Agilent Technologies, Inc. (A)   \n11    APD      airproducts   Air Products and Chemicals, Inc. (APD)   \n12   AKAM           akamai         Akamai Technologies, Inc. (AKAM)   \n13    ALB    albemarlecorp              Albemarle Corporation (ALB)   \n14   ALXN    alexionpharma     Alexion Pharmaceuticals, Inc. (ALXN)   \n15   ALLE      allegionplc                      Allegion plc (ALLE)   \n16    ADS     alliancedata  Alliance Data Systems Corporation (ADS)   \n17    LNT    alliantenergy         Alliant Energy Corporation (LNT)   \n18    ALL         allstate           The Allstate Corporation (ALL)   \n19  GOOGL      alphabetlnc                    Alphabet Inc. (GOOGL)   \n\n                  Industry  Total ESG Risk Score  Environment Risk Score  \\\n0              Industrials                    34                    12.6   \n1              Industrials                    32                     9.5   \n2              Health Care                    31                     3.7   \n3              Health Care                    30                     1.0   \n4   Information Technology                    15                     1.0   \n5   Communication Services                    17                     0.2   \n6   Information Technology                    14                     0.4   \n7   Consumer Discretionary                    13                     0.1   \n8                Utilities                    34                    19.2   \n9               Financials                    24                     2.1   \n10             Health Care                    18                     0.9   \n11               Materials                    12                     6.4   \n12  Information Technology                    21                     1.8   \n13               Materials                    37                    19.7   \n14             Health Care                    27                     0.1   \n15             Industrials                    24                    13.5   \n16  Information Technology                    17                     0.1   \n17               Utilities                    35                    18.5   \n18              Financials                    21                     1.5   \n19  Communication Services                    30                     0.9   \n\n    Social Risk Score  Governance Risk Score             user_id  \n0                12.6                    8.4           378197959  \n1                14.9                    7.6            50405635  \n2                15.9                   11.6           360054369  \n3                16.5                   12.8           531892451  \n4                 8.2                    6.3            10194682  \n5                10.5                    6.1  753670706311815169  \n6                 8.1                    5.1            63786611  \n7                 9.1                    3.7            76762658  \n8                 8.6                    5.9          2541746143  \n9                 8.0                   13.6            23797083  \n10                9.4                    7.2            17278322  \n11                1.6                    3.7           109634966  \n12               11.8                    7.3            19622847  \n13                8.9                    8.7           342316270  \n14               18.5                    8.3           246664765  \n15                4.2                    6.2          1516733046  \n16               10.7                    6.1            30875335  \n17               10.1                    6.8            14777626  \n18                8.6                   11.3            14275290  \n19               15.9                   12.8          3311858486  ",
      "text/html": "<div>\n<style scoped>\n    .dataframe tbody tr th:only-of-type {\n        vertical-align: middle;\n    }\n\n    .dataframe tbody tr th {\n        vertical-align: top;\n    }\n\n    .dataframe thead th {\n        text-align: right;\n    }\n</style>\n<table border=\"1\" class=\"dataframe\">\n  <thead>\n    <tr style=\"text-align: right;\">\n      <th></th>\n      <th>Ticker</th>\n      <th>username</th>\n      <th>Name</th>\n      <th>Industry</th>\n      <th>Total ESG Risk Score</th>\n      <th>Environment Risk Score</th>\n      <th>Social Risk Score</th>\n      <th>Governance Risk Score</th>\n      <th>user_id</th>\n    </tr>\n  </thead>\n  <tbody>\n    <tr>\n      <th>0</th>\n      <td>MMM</td>\n      <td>3m</td>\n      <td>3M Company (MMM)</td>\n      <td>Industrials</td>\n      <td>34</td>\n      <td>12.6</td>\n      <td>12.6</td>\n      <td>8.4</td>\n      <td>378197959</td>\n    </tr>\n    <tr>\n      <th>1</th>\n      <td>AOS</td>\n      <td>aosmithhotwater</td>\n      <td>A. O. Smith Corporation (AOS)</td>\n      <td>Industrials</td>\n      <td>32</td>\n      <td>9.5</td>\n      <td>14.9</td>\n      <td>7.6</td>\n      <td>50405635</td>\n    </tr>\n    <tr>\n      <th>2</th>\n      <td>ABT</td>\n      <td>abbottnews</td>\n      <td>Abbott Laboratories (ABT)</td>\n      <td>Health Care</td>\n      <td>31</td>\n      <td>3.7</td>\n      <td>15.9</td>\n      <td>11.6</td>\n      <td>360054369</td>\n    </tr>\n    <tr>\n      <th>3</th>\n      <td>ABBV</td>\n      <td>abbvie</td>\n      <td>AbbVie Inc. (ABBV)</td>\n      <td>Health Care</td>\n      <td>30</td>\n      <td>1.0</td>\n      <td>16.5</td>\n      <td>12.8</td>\n      <td>531892451</td>\n    </tr>\n    <tr>\n      <th>4</th>\n      <td>ACN</td>\n      <td>accenture</td>\n      <td>Accenture plc (ACN)</td>\n      <td>Information Technology</td>\n      <td>15</td>\n      <td>1.0</td>\n      <td>8.2</td>\n      <td>6.3</td>\n      <td>10194682</td>\n    </tr>\n    <tr>\n      <th>5</th>\n      <td>ATVI</td>\n      <td>atvi_ab</td>\n      <td>Activision Blizzard, Inc. (ATVI)</td>\n      <td>Communication Services</td>\n      <td>17</td>\n      <td>0.2</td>\n      <td>10.5</td>\n      <td>6.1</td>\n      <td>753670706311815169</td>\n    </tr>\n    <tr>\n      <th>6</th>\n      <td>ADBE</td>\n      <td>adobe</td>\n      <td>Adobe Inc. (ADBE)</td>\n      <td>Information Technology</td>\n      <td>14</td>\n      <td>0.4</td>\n      <td>8.1</td>\n      <td>5.1</td>\n      <td>63786611</td>\n    </tr>\n    <tr>\n      <th>7</th>\n      <td>AAP</td>\n      <td>advanceauto</td>\n      <td>Advance Auto Parts, Inc. (AAP)</td>\n      <td>Consumer Discretionary</td>\n      <td>13</td>\n      <td>0.1</td>\n      <td>9.1</td>\n      <td>3.7</td>\n      <td>76762658</td>\n    </tr>\n    <tr>\n      <th>8</th>\n      <td>AES</td>\n      <td>theaescorp</td>\n      <td>The AES Corporation (AES)</td>\n      <td>Utilities</td>\n      <td>34</td>\n      <td>19.2</td>\n      <td>8.6</td>\n      <td>5.9</td>\n      <td>2541746143</td>\n    </tr>\n    <tr>\n      <th>9</th>\n      <td>AFL</td>\n      <td>aflac</td>\n      <td>Aflac Incorporated (AFL)</td>\n      <td>Financials</td>\n      <td>24</td>\n      <td>2.1</td>\n      <td>8.0</td>\n      <td>13.6</td>\n      <td>23797083</td>\n    </tr>\n    <tr>\n      <th>10</th>\n      <td>A</td>\n      <td>agilent</td>\n      <td>Agilent Technologies, Inc. (A)</td>\n      <td>Health Care</td>\n      <td>18</td>\n      <td>0.9</td>\n      <td>9.4</td>\n      <td>7.2</td>\n      <td>17278322</td>\n    </tr>\n    <tr>\n      <th>11</th>\n      <td>APD</td>\n      <td>airproducts</td>\n      <td>Air Products and Chemicals, Inc. (APD)</td>\n      <td>Materials</td>\n      <td>12</td>\n      <td>6.4</td>\n      <td>1.6</td>\n      <td>3.7</td>\n      <td>109634966</td>\n    </tr>\n    <tr>\n      <th>12</th>\n      <td>AKAM</td>\n      <td>akamai</td>\n      <td>Akamai Technologies, Inc. (AKAM)</td>\n      <td>Information Technology</td>\n      <td>21</td>\n      <td>1.8</td>\n      <td>11.8</td>\n      <td>7.3</td>\n      <td>19622847</td>\n    </tr>\n    <tr>\n      <th>13</th>\n      <td>ALB</td>\n      <td>albemarlecorp</td>\n      <td>Albemarle Corporation (ALB)</td>\n      <td>Materials</td>\n      <td>37</td>\n      <td>19.7</td>\n      <td>8.9</td>\n      <td>8.7</td>\n      <td>342316270</td>\n    </tr>\n    <tr>\n      <th>14</th>\n      <td>ALXN</td>\n      <td>alexionpharma</td>\n      <td>Alexion Pharmaceuticals, Inc. (ALXN)</td>\n      <td>Health Care</td>\n      <td>27</td>\n      <td>0.1</td>\n      <td>18.5</td>\n      <td>8.3</td>\n      <td>246664765</td>\n    </tr>\n    <tr>\n      <th>15</th>\n      <td>ALLE</td>\n      <td>allegionplc</td>\n      <td>Allegion plc (ALLE)</td>\n      <td>Industrials</td>\n      <td>24</td>\n      <td>13.5</td>\n      <td>4.2</td>\n      <td>6.2</td>\n      <td>1516733046</td>\n    </tr>\n    <tr>\n      <th>16</th>\n      <td>ADS</td>\n      <td>alliancedata</td>\n      <td>Alliance Data Systems Corporation (ADS)</td>\n      <td>Information Technology</td>\n      <td>17</td>\n      <td>0.1</td>\n      <td>10.7</td>\n      <td>6.1</td>\n      <td>30875335</td>\n    </tr>\n    <tr>\n      <th>17</th>\n      <td>LNT</td>\n      <td>alliantenergy</td>\n      <td>Alliant Energy Corporation (LNT)</td>\n      <td>Utilities</td>\n      <td>35</td>\n      <td>18.5</td>\n      <td>10.1</td>\n      <td>6.8</td>\n      <td>14777626</td>\n    </tr>\n    <tr>\n      <th>18</th>\n      <td>ALL</td>\n      <td>allstate</td>\n      <td>The Allstate Corporation (ALL)</td>\n      <td>Financials</td>\n      <td>21</td>\n      <td>1.5</td>\n      <td>8.6</td>\n      <td>11.3</td>\n      <td>14275290</td>\n    </tr>\n    <tr>\n      <th>19</th>\n      <td>GOOGL</td>\n      <td>alphabetlnc</td>\n      <td>Alphabet Inc. (GOOGL)</td>\n      <td>Communication Services</td>\n      <td>30</td>\n      <td>0.9</td>\n      <td>15.9</td>\n      <td>12.8</td>\n      <td>3311858486</td>\n    </tr>\n  </tbody>\n</table>\n</div>"
     },
     "execution_count": 34,
     "metadata": {},
     "output_type": "execute_result"
    }
   ],
   "source": [
    "esg_df.head(20)"
   ],
   "metadata": {
    "collapsed": false,
    "pycharm": {
     "name": "#%%\n"
    }
   }
  }
 ],
 "metadata": {
  "kernelspec": {
   "display_name": "Python 3",
   "language": "python",
   "name": "python3"
  },
  "language_info": {
   "codemirror_mode": {
    "name": "ipython",
    "version": 2
   },
   "file_extension": ".py",
   "mimetype": "text/x-python",
   "name": "python",
   "nbconvert_exporter": "python",
   "pygments_lexer": "ipython2",
   "version": "2.7.6"
  }
 },
 "nbformat": 4,
 "nbformat_minor": 0
}