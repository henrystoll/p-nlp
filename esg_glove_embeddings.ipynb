{
 "cells": [
  {
   "cell_type": "code",
   "execution_count": 1,
   "metadata": {
    "collapsed": true,
    "pycharm": {
     "is_executing": false
    }
   },
   "outputs": [
    {
     "name": "stderr",
     "text": [
      "c:\\users\\simon\\onedrive\\cbs - ottende semester\\machinelearning\\l-ml\\assignment 1\\simon\\venv\\lib\\site-packages\\gensim\\similarities\\__init__.py:15: UserWarning: The gensim.similarities.levenshtein submodule is disabled, because the optional Levenshtein package <https://pypi.org/project/python-Levenshtein/> is unavailable. Install Levenhstein (e.g. `pip install python-Levenshtein`) to suppress this warning.\n",
      "  warnings.warn(msg)\n"
     ],
     "output_type": "stream"
    }
   ],
   "source": [
    "import numpy as np\n",
    "import pandas as pd\n",
    "import spacy\n",
    "from gensim.test.utils import datapath, get_tmpfile\n",
    "from gensim.models import KeyedVectors\n",
    "from gensim.scripts.glove2word2vec import glove2word2vec\n",
    "from pandas.tests.arrays.string_.test_string_arrow import pa\n",
    "import TfidfEmbeddingVectorization\n",
    "import re"
   ]
  },
  {
   "cell_type": "code",
   "execution_count": 2,
   "outputs": [],
   "source": [
    "df = pd.read_parquet(\"300_companies_tweets.parquet.gzip\")\n",
    "nlp = spacy.load('en_core_web_lg')"
   ],
   "metadata": {
    "collapsed": false,
    "pycharm": {
     "name": "#%%\n",
     "is_executing": false
    }
   }
  },
  {
   "cell_type": "code",
   "execution_count": 3,
   "outputs": [],
   "source": [
    "df_ = pd.DataFrame(columns=df.columns)\n",
    "\n"
   ],
   "metadata": {
    "collapsed": false,
    "pycharm": {
     "name": "#%%\n",
     "is_executing": false
    }
   }
  },
  {
   "cell_type": "code",
   "execution_count": 4,
   "outputs": [],
   "source": [
    "pattern = r\"(?<![#@])\\b\\w+\\b\"\n",
    "for index, row in df.iterrows():\n",
    "    tweets = row['text'].split('|||')\n",
    "    K = 50\n",
    "    count = 0\n",
    "    tmp = []\n",
    "    for i in range(0,len(tweets)-1):\n",
    "        if count+K > len(tweets):\n",
    "            break\n",
    "        else: \n",
    "            tmp.append([\" \".join(tweets[count:count+50])])       \n",
    "        count = count+50\n",
    "    \n",
    "        \n",
    "    for lst in tmp: \n",
    "        lst = [x.lower() for x in lst]\n",
    "        lst = [re.findall(pattern, x) for i, x in enumerate(lst)]\n",
    "        lst = [item for sublist in lst for item in sublist]\n",
    "        lst = ' '.join(lst)\n",
    "        new_row = {'username':row['username'], 'text': lst, 'Ticker': row['Ticker'], 'Name':row['Name'], 'Industry': row['Industry'], 'Total ESG Risk Score': row['Total ESG Risk Score'], 'Environment Risk Score': row['Environment Risk Score'], 'Social Risk Score': row['Social Risk Score'], 'Governance Risk Score': row['Governance Risk Score'], 'user_id': row['user_id']}\n",
    "        df_ = df_.append(new_row, ignore_index=True)"
   ],
   "metadata": {
    "collapsed": false,
    "pycharm": {
     "name": "#%%\n",
     "is_executing": false
    }
   }
  },
  {
   "cell_type": "code",
   "execution_count": 5,
   "outputs": [],
   "source": [
    "df_['text_tokenized'] = df_['text'].apply(lambda x: nlp(x))"
   ],
   "metadata": {
    "collapsed": false,
    "pycharm": {
     "name": "#%%\n",
     "is_executing": false
    }
   }
  },
  {
   "cell_type": "code",
   "execution_count": 6,
   "outputs": [],
   "source": [
    "df_.to_csv('50_tweets_companies.csv')"
   ],
   "metadata": {
    "collapsed": false,
    "pycharm": {
     "name": "#%%\n",
     "is_executing": false
    }
   }
  },
  {
   "cell_type": "code",
   "execution_count": 7,
   "outputs": [
    {
     "data": {
      "text/plain": "  username                                               text Ticker  \\\n0       3m  sorry to hear of the difficulty please contact...    MMM   \n1       3m  hello thank you for reaching out to us please ...    MMM   \n2       3m  hello thank you for messaging us for product i...    MMM   \n3       3m  when process engineer mary ann started at 3m s...    MMM   \n4       3m  hello ian please connect with the 3m safety eq...    MMM   \n\n               Name     Industry Total ESG Risk Score  Environment Risk Score  \\\n0  3M Company (MMM)  Industrials                   34                    12.6   \n1  3M Company (MMM)  Industrials                   34                    12.6   \n2  3M Company (MMM)  Industrials                   34                    12.6   \n3  3M Company (MMM)  Industrials                   34                    12.6   \n4  3M Company (MMM)  Industrials                   34                    12.6   \n\n   Social Risk Score  Governance Risk Score    user_id  \\\n0               12.6                    8.4  378197959   \n1               12.6                    8.4  378197959   \n2               12.6                    8.4  378197959   \n3               12.6                    8.4  378197959   \n4               12.6                    8.4  378197959   \n\n                                      text_tokenized  \n0  (sorry, to, hear, of, the, difficulty, please,...  \n1  (hello, thank, you, for, reaching, out, to, us...  \n2  (hello, thank, you, for, messaging, us, for, p...  \n3  (when, process, engineer, mary, ann, started, ...  \n4  (hello, ian, please, connect, with, the, 3, m,...  ",
      "text/html": "<div>\n<style scoped>\n    .dataframe tbody tr th:only-of-type {\n        vertical-align: middle;\n    }\n\n    .dataframe tbody tr th {\n        vertical-align: top;\n    }\n\n    .dataframe thead th {\n        text-align: right;\n    }\n</style>\n<table border=\"1\" class=\"dataframe\">\n  <thead>\n    <tr style=\"text-align: right;\">\n      <th></th>\n      <th>username</th>\n      <th>text</th>\n      <th>Ticker</th>\n      <th>Name</th>\n      <th>Industry</th>\n      <th>Total ESG Risk Score</th>\n      <th>Environment Risk Score</th>\n      <th>Social Risk Score</th>\n      <th>Governance Risk Score</th>\n      <th>user_id</th>\n      <th>text_tokenized</th>\n    </tr>\n  </thead>\n  <tbody>\n    <tr>\n      <th>0</th>\n      <td>3m</td>\n      <td>sorry to hear of the difficulty please contact...</td>\n      <td>MMM</td>\n      <td>3M Company (MMM)</td>\n      <td>Industrials</td>\n      <td>34</td>\n      <td>12.6</td>\n      <td>12.6</td>\n      <td>8.4</td>\n      <td>378197959</td>\n      <td>(sorry, to, hear, of, the, difficulty, please,...</td>\n    </tr>\n    <tr>\n      <th>1</th>\n      <td>3m</td>\n      <td>hello thank you for reaching out to us please ...</td>\n      <td>MMM</td>\n      <td>3M Company (MMM)</td>\n      <td>Industrials</td>\n      <td>34</td>\n      <td>12.6</td>\n      <td>12.6</td>\n      <td>8.4</td>\n      <td>378197959</td>\n      <td>(hello, thank, you, for, reaching, out, to, us...</td>\n    </tr>\n    <tr>\n      <th>2</th>\n      <td>3m</td>\n      <td>hello thank you for messaging us for product i...</td>\n      <td>MMM</td>\n      <td>3M Company (MMM)</td>\n      <td>Industrials</td>\n      <td>34</td>\n      <td>12.6</td>\n      <td>12.6</td>\n      <td>8.4</td>\n      <td>378197959</td>\n      <td>(hello, thank, you, for, messaging, us, for, p...</td>\n    </tr>\n    <tr>\n      <th>3</th>\n      <td>3m</td>\n      <td>when process engineer mary ann started at 3m s...</td>\n      <td>MMM</td>\n      <td>3M Company (MMM)</td>\n      <td>Industrials</td>\n      <td>34</td>\n      <td>12.6</td>\n      <td>12.6</td>\n      <td>8.4</td>\n      <td>378197959</td>\n      <td>(when, process, engineer, mary, ann, started, ...</td>\n    </tr>\n    <tr>\n      <th>4</th>\n      <td>3m</td>\n      <td>hello ian please connect with the 3m safety eq...</td>\n      <td>MMM</td>\n      <td>3M Company (MMM)</td>\n      <td>Industrials</td>\n      <td>34</td>\n      <td>12.6</td>\n      <td>12.6</td>\n      <td>8.4</td>\n      <td>378197959</td>\n      <td>(hello, ian, please, connect, with, the, 3, m,...</td>\n    </tr>\n  </tbody>\n</table>\n</div>"
     },
     "metadata": {},
     "output_type": "execute_result",
     "execution_count": 7
    }
   ],
   "source": [
    "df_.head()"
   ],
   "metadata": {
    "collapsed": false,
    "pycharm": {
     "name": "#%%\n",
     "is_executing": false
    }
   }
  },
  {
   "cell_type": "code",
   "execution_count": null,
   "outputs": [],
   "source": [],
   "metadata": {
    "collapsed": false,
    "pycharm": {
     "name": "#%%\n"
    }
   }
  }
 ],
 "metadata": {
  "kernelspec": {
   "display_name": "Python 3",
   "language": "python",
   "name": "python3"
  },
  "language_info": {
   "codemirror_mode": {
    "name": "ipython",
    "version": 2
   },
   "file_extension": ".py",
   "mimetype": "text/x-python",
   "name": "python",
   "nbconvert_exporter": "python",
   "pygments_lexer": "ipython2",
   "version": "2.7.6"
  },
  "pycharm": {
   "stem_cell": {
    "cell_type": "raw",
    "source": [],
    "metadata": {
     "collapsed": false
    }
   }
  }
 },
 "nbformat": 4,
 "nbformat_minor": 0
}