{
 "cells": [
  {
   "cell_type": "markdown",
   "source": [
    "# Testing out different Vectorizers and regressors\n",
    "\n",
    "## Vectorizers\n",
    "\n",
    "    1. tf-idf vs tf vs count\n",
    "    2. max_features?\n",
    "    3. stop_words?\n",
    "    4. ngrams?\n",
    "\n",
    "Feature importance?\n"
   ],
   "metadata": {
    "collapsed": false,
    "pycharm": {
     "name": "#%% md\n"
    }
   }
  },
  {
   "cell_type": "code",
   "execution_count": 20,
   "metadata": {
    "collapsed": true
   },
   "outputs": [],
   "source": [
    "import numpy as np\n",
    "import pandas as pd\n",
    "import seaborn as sns\n",
    "\n",
    "from sklearn.model_selection import train_test_split, GridSearchCV\n",
    "from sklearn.feature_extraction.text import TfidfVectorizer, CountVectorizer\n",
    "from sklearn.pipeline import Pipeline\n",
    "from xgboost import XGBRegressor"
   ]
  },
  {
   "cell_type": "code",
   "execution_count": null,
   "outputs": [],
   "source": [
    "df = pd.read_parquet('300_companies_tweets.parquet.gzip')\n",
    "print(df.dtypes)\n",
    "X = df['text']\n",
    "y = df['Total ESG Risk Score']\n",
    "X_train, X_test, y_train, y_test = train_test_split(X, y, test_size=0.2, random_state=0)"
   ],
   "metadata": {
    "collapsed": false,
    "pycharm": {
     "name": "#%%\n"
    }
   }
  },
  {
   "cell_type": "code",
   "execution_count": 74,
   "outputs": [
    {
     "name": "stdout",
     "output_type": "stream",
     "text": [
      "Fitting 5 folds for each of 24 candidates, totalling 120 fits\n"
     ]
    }
   ],
   "source": [
    "pipe = Pipeline([\n",
    "    ('vect', TfidfVectorizer()),\n",
    "    ('model', XGBRegressor(verbosity=1))\n",
    "])\n",
    "\n",
    "search_grid = {\n",
    "    'vect': [TfidfVectorizer(), TfidfVectorizer(use_idf=False), CountVectorizer()],\n",
    "    'vect__strip_accents': ['ascii', 'unicode'],\n",
    "    'vect__max_features': [50_000],\n",
    "    'vect__stop_words': ['english', None],\n",
    "    'vect__ngram_range': [(1, 1), (1, 2)]\n",
    "}\n",
    "grid = GridSearchCV(pipe, search_grid, n_jobs=6, verbose=1,\n",
    "                    scoring=['explained_variance',\n",
    "                             'max_error',\n",
    "                             'neg_mean_absolute_error',\n",
    "                             'neg_mean_squared_error',\n",
    "                             'neg_root_mean_squared_error',\n",
    "                             'neg_mean_squared_log_error',\n",
    "                             'neg_median_absolute_error',\n",
    "                             'r2',\n",
    "                             'neg_mean_absolute_percentage_error'\n",
    "                             ], refit='neg_root_mean_squared_error')\n",
    "\n",
    "grid.fit(X_train, y_train)\n",
    "results_cv = pd.DataFrame(grid.cv_results_)"
   ],
   "metadata": {
    "collapsed": false,
    "pycharm": {
     "name": "#%%\n"
    }
   }
  },
  {
   "cell_type": "code",
   "execution_count": 75,
   "outputs": [
    {
     "name": "stdout",
     "output_type": "stream",
     "text": [
      "{'vect': TfidfVectorizer(max_features=50000, strip_accents='unicode'), 'vect__max_features': 50000, 'vect__ngram_range': (1, 1), 'vect__stop_words': None, 'vect__strip_accents': 'unicode'}\n",
      "-7.664757943350436\n",
      "|                                              | 0                                                            | 1                                                            | 2                                                            | 3                                                            | 4                                                            | 5                                                            | 6                                                            | 7                                                            | 8                              | 9                              | 10                             | 11                             | 12                             | 13                             | 14                             | 15                             | 16                   | 17                   | 18                   | 19                   | 20                   | 21                    | 22                    | 23                   |\n",
      "|:---------------------------------------------|:-------------------------------------------------------------|:-------------------------------------------------------------|:-------------------------------------------------------------|:-------------------------------------------------------------|:-------------------------------------------------------------|:-------------------------------------------------------------|:-------------------------------------------------------------|:-------------------------------------------------------------|:-------------------------------|:-------------------------------|:-------------------------------|:-------------------------------|:-------------------------------|:-------------------------------|:-------------------------------|:-------------------------------|:---------------------|:---------------------|:---------------------|:---------------------|:---------------------|:----------------------|:----------------------|:---------------------|\n",
      "| param_vect                                   | TfidfVectorizer(max_features=50000, strip_accents='unicode') | TfidfVectorizer(max_features=50000, strip_accents='unicode') | TfidfVectorizer(max_features=50000, strip_accents='unicode') | TfidfVectorizer(max_features=50000, strip_accents='unicode') | TfidfVectorizer(max_features=50000, strip_accents='unicode') | TfidfVectorizer(max_features=50000, strip_accents='unicode') | TfidfVectorizer(max_features=50000, strip_accents='unicode') | TfidfVectorizer(max_features=50000, strip_accents='unicode') | TfidfVectorizer(use_idf=False) | TfidfVectorizer(use_idf=False) | TfidfVectorizer(use_idf=False) | TfidfVectorizer(use_idf=False) | TfidfVectorizer(use_idf=False) | TfidfVectorizer(use_idf=False) | TfidfVectorizer(use_idf=False) | TfidfVectorizer(use_idf=False) | CountVectorizer()    | CountVectorizer()    | CountVectorizer()    | CountVectorizer()    | CountVectorizer()    | CountVectorizer()     | CountVectorizer()     | CountVectorizer()    |\n",
      "| mean_test_explained_variance                 | -0.12090433082425692                                         | -0.00040455334701388067                                      | 0.05662124883697532                                          | 0.11744218330661815                                          | -0.17132888860404527                                         | -0.17199169832242853                                         | 0.0052223454254405775                                        | -0.06504722177003597                                         | -0.06772101097404042           | -0.021283091249690234          | 0.020428793017125125           | 0.014152198024102858           | -0.05533151376740904           | 0.025529470018500568           | 0.028012817383565248           | 0.014843925670166413           | -0.09089732154585824 | -0.11660617164889639 | -0.11146874774327475 | -0.0834433457671401  | -0.07908358799938113 | -0.047362396441699796 | -0.017800817967230386 | -0.06817190036925284 |\n",
      "| mean_test_max_error                          | -27.04721336364746                                           | -24.85592041015625                                           | -23.83933448791504                                           | -24.06984634399414                                           | -26.21180839538574                                           | -28.2593994140625                                            | -25.80051918029785                                           | -25.598571014404296                                          | -26.51073303222656             | -26.890757751464843            | -25.15757026672363             | -25.30344352722168             | -27.766228103637694            | -26.78648109436035             | -24.785763549804688            | -24.600344085693358            | -27.219509506225585  | -27.454718399047852  | -27.129973793029784  | -26.4733549118042    | -25.73292808532715   | -23.928038024902342   | -25.37738800048828    | -25.377959060668946  |\n",
      "| mean_test_neg_mean_absolute_error            | -6.535389967759452                                           | -6.330061149597168                                           | -6.077149677276611                                           | -5.894471585750579                                           | -6.779135004679361                                           | -6.87674295504888                                            | -6.244985032081604                                           | -6.58263727426529                                            | -6.39905297756195              | -6.172951698303223             | -6.214720857143401             | -6.259776945908865             | -6.400490160783133             | -6.2936836282412205            | -6.200462206204731             | -6.325132910410564             | -6.466684373219809   | -6.617768375078836   | -6.663961692651112   | -6.46280415058136    | -6.572750631968181   | -6.619112300872803    | -6.252277672290803    | -6.5643180688222245  |\n",
      "| mean_test_neg_mean_squared_error             | -74.04808001762976                                           | -65.9162899128659                                            | -63.48647640530297                                           | -59.68437266093771                                           | -79.16009885961208                                           | -82.26032185480732                                           | -67.23464004615577                                           | -72.12479596806713                                           | -71.21629400804467             | -69.37370343271468             | -66.54237437263377             | -65.72508111026777             | -71.85754226171943             | -66.0285755361266              | -65.91758419945337             | -66.50088408358643             | -72.09946951419028   | -74.3988554490245    | -73.67251368268349   | -71.99002030274565   | -71.62256676302945   | -69.8921902262371     | -67.88435623306327    | -71.58340318613521   |\n",
      "| mean_test_neg_root_mean_squared_error        | -8.58037791381701                                            | -8.100530232341422                                           | -7.884471972455799                                           | -7.664757943350436                                           | -8.837025203156728                                           | -8.931100882512524                                           | -8.129136186966097                                           | -8.42091245077457                                            | -8.399850912116605             | -8.264380404918004             | -8.102218021104932             | -8.084177813571092             | -8.419149397430411             | -8.08738559047445              | -8.0088761260524               | -8.113885817072651             | -8.468936758801416   | -8.60722175180915    | -8.566485371033725   | -8.466055446928074   | -8.436582695778904   | -8.331625269752369    | -8.20565502735366     | -8.434419439058335   |\n",
      "| mean_test_neg_mean_squared_log_error         | -0.11201294188095626                                         | -0.09943579449659634                                         | -0.09463051553810048                                         | -0.08766987907624824                                         | -0.11815858213346489                                         | -0.1250392956282715                                          | -0.0999944575382141                                          | -0.10760196413035754                                         | -0.10629419776168776           | -0.10301706675457442           | -0.1006722818607008            | -0.09869810775412349           | -0.10596184767759298           | -0.0974764047774919            | -0.09819617949248845           | -0.09838210154246031           | -0.10779743617805057 | -0.11362824641639382 | -0.1098264683732683  | -0.10970635493500455 | -0.10798155252560301 | -0.10469411434509843  | -0.1013867461139835   | -0.10939474752527586 |\n",
      "| mean_test_neg_median_absolute_error          | -5.322534370422363                                           | -5.467741584777832                                           | -5.062689781188965                                           | -4.773186302185058                                           | -5.488973999023438                                           | -5.781794166564941                                           | -5.148417282104492                                           | -5.894597434997559                                           | -4.901313209533692             | -4.629105186462402             | -4.903275680541992             | -5.248224449157715             | -5.142923164367676             | -5.325037002563477             | -5.255309677124023             | -5.377242469787598             | -5.226981353759766   | -5.405688858032226   | -5.492392349243164   | -5.14544906616211    | -5.359117698669434   | -5.464230537414551    | -4.941387748718261    | -5.3882591247558596  |\n",
      "| mean_test_r2                                 | -0.12529093847134526                                         | -0.006876587072912832                                        | 0.050885442126700896                                         | 0.11034933936723487                                          | -0.185745391504136                                           | -0.21355703514132446                                         | -0.01209774321547874                                         | -0.0945389469816281                                          | -0.07468907278191328           | -0.029352640090963323          | 0.008819091356938102           | 0.002261742577633741           | -0.07237227984134405           | 0.003861785189096789           | 0.02247878287447469            | -0.002019250559808494          | -0.10065457982242172 | -0.1330156543419912  | -0.12318595755941623 | -0.09607801144721798 | -0.089784061402993   | -0.059890519057573345 | -0.026056424070942462 | -0.08264952627825506 |\n",
      "| mean_test_neg_mean_absolute_percentage_error | -0.2983360178891689                                          | -0.287558416351803                                           | -0.27322370380860816                                         | -0.2630452760085373                                          | -0.3127022378854403                                          | -0.3189911570385596                                          | -0.2837231939737697                                          | -0.29994870021665576                                         | -0.287934866074363             | -0.27676664630609493           | -0.28072742623822045           | -0.280378100286881             | -0.28538564107912795           | -0.2812635154241355            | -0.279063523071467             | -0.2864730263559141            | -0.29273568389144955 | -0.30707624583286225 | -0.2995094776468284  | -0.29809205050146387 | -0.29456295227545615 | -0.2983741607100228   | -0.28593452796476776  | -0.30617605557356464 |\n"
     ]
    },
    {
     "data": {
      "text/plain": "<Figure size 432x288 with 1 Axes>",
      "image/png": "[encoded data removed]"
     },
     "metadata": {
      "needs_background": "light"
     },
     "output_type": "display_data"
    }
   ],
   "source": [
    "print(grid.best_params_)\n",
    "print(grid.best_score_)\n",
    "\n",
    "reg = grid.best_estimator_.named_steps['model']\n",
    "vect = grid.best_estimator_.named_steps['vect']\n",
    "zipped = zip(vect.get_feature_names(), reg.feature_importances_)\n",
    "feature_importance = pd.DataFrame(zipped, columns=[\"feature\", \"value\"])\n",
    "\n",
    "feature_importance = feature_importance.sort_values('value', ascending=False)\n",
    "\n",
    "sns.barplot(data=feature_importance[:30], y='feature', x='value')\n",
    "# results_cv.sort_values('rank_test_score')\n",
    "# print(results_cv.T.to_markdown())\n",
    "mean_test_cols = results_cv.columns[results_cv.columns.map(lambda s: s.startswith('mean_test_'))]\n",
    "print(results_cv[['param_vect', *mean_test_cols]].T.to_markdown())"
   ],
   "metadata": {
    "collapsed": false,
    "pycharm": {
     "name": "#%%\n"
    }
   }
  },
  {
   "cell_type": "markdown",
   "source": [
    "|scoring                                | 0                    | 1                                                                                | 2                    |\n",
    "|:--------------------------------------|:---------------------|:---------------------------------------------------------------------------------|:---------------------|\n",
    "| param_vect                            | TfidfVectorizer()    | TfidfVectorizer(use_idf=False)                                                   | CountVectorizer()    |\n",
    "| mean_test_explained_variance          | -0.12090433082425692 | -0.06772101097404042                                                             | -0.09089732154585824 |\n",
    "| mean_test_max_error                   | -27.04721336364746   | -26.51073303222656                                                               | -27.219509506225585  |\n",
    "| mean_test_neg_mean_absolute_error     | -6.535389967759452   | -6.39905297756195                                                                | -6.466684373219809   |\n",
    "| mean_test_neg_mean_squared_error      | -74.04808001762976   | -71.21629400804467                                                               | -72.09946951419028   |\n",
    "| mean_test_neg_root_mean_squared_error | -8.58037791381701    | -8.399850912116605                                                               | -8.468936758801416   |\n",
    "| mean_test_neg_mean_squared_log_error  | -0.11201294188095626 | -0.10629419776168776                                                             | -0.10779743617805057 |\n",
    "| mean_test_neg_median_absolute_error   | -5.322534370422363   | -4.901313209533692                                                               | -5.226981353759766   |"
   ],
   "metadata": {
    "collapsed": false
   }
  },
  {
   "cell_type": "code",
   "execution_count": 73,
   "outputs": [
    {
     "data": {
      "text/plain": "0.34681465367946346"
     },
     "execution_count": 73,
     "metadata": {},
     "output_type": "execute_result"
    }
   ],
   "source": [
    "8.399850912116605 / y.mean()"
   ],
   "metadata": {
    "collapsed": false,
    "pycharm": {
     "name": "#%%\n"
    }
   }
  }
 ],
 "metadata": {
  "kernelspec": {
   "display_name": "Python 3",
   "language": "python",
   "name": "python3"
  },
  "language_info": {
   "codemirror_mode": {
    "name": "ipython",
    "version": 2
   },
   "file_extension": ".py",
   "mimetype": "text/x-python",
   "name": "python",
   "nbconvert_exporter": "python",
   "pygments_lexer": "ipython2",
   "version": "2.7.6"
  }
 },
 "nbformat": 4,
 "nbformat_minor": 0
}