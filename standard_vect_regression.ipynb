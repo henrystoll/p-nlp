{
 "cells": [
  {
   "cell_type": "markdown",
   "source": [
    "# Testing out different Vectorizers and regressors\n",
    "\n",
    "## Vectorizers\n",
    "\n",
    "    1. tf-idf vs tf vs count\n",
    "    2. max_features?\n",
    "    3. stop_words?\n",
    "    4. ngrams?\n",
    "\n",
    "Feature importance?\n"
   ],
   "metadata": {
    "collapsed": false,
    "pycharm": {
     "name": "#%% md\n"
    }
   }
  },
  {
   "cell_type": "code",
   "execution_count": 20,
   "metadata": {
    "collapsed": true
   },
   "outputs": [],
   "source": [
    "import numpy as np\n",
    "import pandas as pd\n",
    "import seaborn as sns\n",
    "\n",
    "from sklearn.model_selection import train_test_split, GridSearchCV\n",
    "from sklearn.feature_extraction.text import TfidfVectorizer, CountVectorizer\n",
    "from sklearn.pipeline import Pipeline\n",
    "from xgboost import XGBRegressor"
   ]
  },
  {
   "cell_type": "code",
   "execution_count": null,
   "outputs": [],
   "source": [
    "df = pd.read_parquet('300_companies_tweets.parquet.gzip')\n",
    "print(df.dtypes)\n",
    "X = df['text']\n",
    "y = df['Total ESG Risk Score']\n",
    "X_train, X_test, y_train, y_test = train_test_split(X, y, test_size=0.2, random_state=0)"
   ],
   "metadata": {
    "collapsed": false,
    "pycharm": {
     "name": "#%%\n"
    }
   }
  },
  {
   "cell_type": "code",
   "execution_count": null,
   "outputs": [
    {
     "name": "stdout",
     "output_type": "stream",
     "text": [
      "Fitting 5 folds for each of 24 candidates, totalling 120 fits\n"
     ]
    }
   ],
   "source": [
    "pipe = Pipeline([\n",
    "    ('vect', TfidfVectorizer()),\n",
    "    ('model', XGBRegressor(verbosity=1))\n",
    "])\n",
    "\n",
    "search_grid = {\n",
    "    'vect': [TfidfVectorizer(), TfidfVectorizer(use_idf=False), CountVectorizer()],\n",
    "    'vect__strip_accents': ['ascii', 'unicode'],\n",
    "    'vect__max_features': [50_000],\n",
    "    'vect__stop_words': ['english', None],\n",
    "    'vect__ngram_range': [(1, 1), (1, 2)]\n",
    "}\n",
    "grid = GridSearchCV(pipe, search_grid, n_jobs=6, verbose=1,\n",
    "                    scoring=['explained_variance',\n",
    "                             'max_error',\n",
    "                             'neg_mean_absolute_error',\n",
    "                             'neg_mean_squared_error',\n",
    "                             'neg_root_mean_squared_error',\n",
    "                             'neg_mean_squared_log_error',\n",
    "                             'neg_median_absolute_error',\n",
    "                             'r2',\n",
    "                             'neg_mean_absolute_percentage_error'\n",
    "                             ], refit='neg_root_mean_squared_error')\n",
    "\n",
    "grid.fit(X_train, y_train)\n",
    "results_cv = pd.DataFrame(grid.cv_results_)"
   ],
   "metadata": {
    "collapsed": false,
    "pycharm": {
     "name": "#%%\n",
     "is_executing": true
    }
   }
  },
  {
   "cell_type": "code",
   "execution_count": null,
   "outputs": [],
   "source": [
    "print(grid.best_params_)\n",
    "print(grid.best_score_)\n",
    "\n",
    "reg = grid.best_estimator_.named_steps['model']\n",
    "vect = grid.best_estimator_.named_steps['vect']\n",
    "zipped = zip(vect.get_feature_names(), reg.feature_importances_)\n",
    "feature_importance = pd.DataFrame(zipped, columns=[\"feature\", \"value\"])\n",
    "\n",
    "feature_importance = feature_importance.sort_values('value', ascending=False)\n",
    "\n",
    "sns.barplot(data=feature_importance[:30], y='feature', x='value')\n",
    "# results_cv.sort_values('rank_test_score')\n",
    "# print(results_cv.T.to_markdown())\n",
    "mean_test_cols = results_cv.columns[results_cv.columns.map(lambda s: s.startswith('mean_test_'))]\n",
    "print(results_cv[['param_vect', *mean_test_cols]].T.to_markdown())"
   ],
   "metadata": {
    "collapsed": false,
    "pycharm": {
     "name": "#%%\n",
     "is_executing": true
    }
   }
  },
  {
   "cell_type": "markdown",
   "source": [
    "|scoring                                | 0                    | 1                                                                                | 2                    |\n",
    "|:--------------------------------------|:---------------------|:---------------------------------------------------------------------------------|:---------------------|\n",
    "| param_vect                            | TfidfVectorizer()    | TfidfVectorizer(use_idf=False)                                                   | CountVectorizer()    |\n",
    "| mean_test_explained_variance          | -0.12090433082425692 | -0.06772101097404042                                                             | -0.09089732154585824 |\n",
    "| mean_test_max_error                   | -27.04721336364746   | -26.51073303222656                                                               | -27.219509506225585  |\n",
    "| mean_test_neg_mean_absolute_error     | -6.535389967759452   | -6.39905297756195                                                                | -6.466684373219809   |\n",
    "| mean_test_neg_mean_squared_error      | -74.04808001762976   | -71.21629400804467                                                               | -72.09946951419028   |\n",
    "| mean_test_neg_root_mean_squared_error | -8.58037791381701    | -8.399850912116605                                                               | -8.468936758801416   |\n",
    "| mean_test_neg_mean_squared_log_error  | -0.11201294188095626 | -0.10629419776168776                                                             | -0.10779743617805057 |\n",
    "| mean_test_neg_median_absolute_error   | -5.322534370422363   | -4.901313209533692                                                               | -5.226981353759766   |"
   ],
   "metadata": {
    "collapsed": false
   }
  },
  {
   "cell_type": "code",
   "execution_count": 73,
   "outputs": [
    {
     "data": {
      "text/plain": "0.34681465367946346"
     },
     "execution_count": 73,
     "metadata": {},
     "output_type": "execute_result"
    }
   ],
   "source": [
    "8.399850912116605 / y.mean()"
   ],
   "metadata": {
    "collapsed": false,
    "pycharm": {
     "name": "#%%\n"
    }
   }
  }
 ],
 "metadata": {
  "kernelspec": {
   "display_name": "Python 3",
   "language": "python",
   "name": "python3"
  },
  "language_info": {
   "codemirror_mode": {
    "name": "ipython",
    "version": 2
   },
   "file_extension": ".py",
   "mimetype": "text/x-python",
   "name": "python",
   "nbconvert_exporter": "python",
   "pygments_lexer": "ipython2",
   "version": "2.7.6"
  }
 },
 "nbformat": 4,
 "nbformat_minor": 0
}